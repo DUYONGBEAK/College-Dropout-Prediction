{
 "cells": [
  {
   "cell_type": "markdown",
   "id": "97a9ba3b-7bdc-4cf3-b144-a0b8df592a1c",
   "metadata": {},
   "source": [
    "# 0. 라이브러리 임포트"
   ]
  },
  {
   "cell_type": "code",
   "execution_count": 1,
   "id": "247f64a8-cb47-4b5d-a9af-f00d338ed681",
   "metadata": {},
   "outputs": [],
   "source": [
    "import pandas as pd\n",
    "import numpy as np\n",
    "import matplotlib.pyplot as plt\n",
    "import seaborn as sns\n",
    "import datetime as dt\n",
    "import warnings\n",
    "warnings.filterwarnings('ignore')\n",
    "%matplotlib inline"
   ]
  },
  {
   "cell_type": "markdown",
   "id": "7ab2261d-c8a2-4ca3-ad2b-e76f74021db5",
   "metadata": {},
   "source": [
    "# 1. 데이터 전처리"
   ]
  },
  {
   "cell_type": "markdown",
   "id": "95671367-8cc8-4a9c-b142-1b2778fa4b4e",
   "metadata": {},
   "source": [
    "##### 사용할 함수정의"
   ]
  },
  {
   "cell_type": "code",
   "execution_count": 2,
   "id": "9165bc26-b27c-4364-b08b-158c5c44af25",
   "metadata": {},
   "outputs": [],
   "source": [
    "# 결측값을 높은 빈도 값으로 채우는 함수\n",
    "def frequency_apply(df, criteria_col, target_col, n=0):\n",
    "    if df[criteria_col].isnull().sum() > 0:\n",
    "        print(\"Impossible if there are None : \",criteria_col)\n",
    "        return\n",
    "    \n",
    "    if df[target_col].isnull().sum() > 0:\n",
    "        print(\"Impossible if there are None : \",target_col)\n",
    "        return\n",
    "    \n",
    "    target_index = df.loc[df[target_col] == 0][target_col].groupby(df[criteria_col]).count().index\n",
    "    \n",
    "    for i in range(0,len(target_index)):\n",
    "        arr_value = df.loc[df[criteria_col] == target_index[i]][criteria_col].groupby(df[target_col]).count()\n",
    "        max_value = df.loc[df[criteria_col] == target_index[i]][criteria_col].groupby(df[target_col]).count().max()\n",
    "        \n",
    "        for j in range(0,len(arr_value)):\n",
    "            if max_value == arr_value.values[j]:\n",
    "                k = j\n",
    "                break\n",
    "                \n",
    "        change = df.loc[df[criteria_col] == target_index[i]][criteria_col].groupby(df[target_col]).count().index[k]        \n",
    "        df.loc[(df[target_col] == n) & (df[criteria_col] == target_index[i]),target_col] = change\n",
    "        \n",
    "# 특정 컬럼의 널값 퍼센테이지를 확인하는 함수        \n",
    "def None_percentage(df, col):\n",
    "    per = df[col].isnull().sum() / df.shape[0]\n",
    "    return print(col,\"의 None값 \",round(per,4) * 100,\"%\")        \n",
    "\n",
    "def col_diff(df1, df2):\n",
    "    col = []\n",
    "    for i in range(0,len(df1.columns)):\n",
    "        for j in range(0,len(df2.columns)):\n",
    "            if df1.columns[i] == df2.columns[j]:\n",
    "                col.append(df1.columns[i])\n",
    "    print(\"join columns : \",col)            \n",
    "    return col\n",
    "\n",
    "\n",
    "def str_col(df):\n",
    "    col = []\n",
    "    for i in range(0,len(df.dtypes)):\n",
    "        if str(df.dtypes[i]) == 'object':\n",
    "            col.append(df.dtypes.index[i])\n",
    "    print(col)        \n",
    "    return col\n",
    "\n",
    "\n",
    "def int_col(df):\n",
    "    col = []\n",
    "    for i in range(0,len(df.dtypes)):\n",
    "        if str(df.dtypes[i]) != 'object':\n",
    "            col.append(df.dtypes.index[i])\n",
    "    print(col)        \n",
    "    return col \n",
    "\n",
    "def unique_check(df):\n",
    "    \n",
    "    for i in range(0,len(df.columns)):\n",
    "        if df[df.columns[i]].isnull().sum() > 0:\n",
    "            print(\"Impossible if there are None : \",df.columns[i])\n",
    "        \n",
    "    col_1 = []\n",
    "    col_2 = []\n",
    "    for i in range(0,len(df.columns)):\n",
    "        if type(df[df.columns[i]][0]) == str:\n",
    "            col_1.append(df.columns[i])\n",
    "            \n",
    "            if df[df.columns[i]].nunique() > 5:\n",
    "                col_2.append(df.columns[i])\n",
    "                print(df.columns[i],\"컬럼의 unique 개수는 \",df[df.columns[i]].nunique(),\"개\")\n",
    "                \n",
    "    return col_1, col_2    \n",
    "\n",
    "def p_100(a, b):\n",
    "    print( round( (a/(a+b))*100,2), \"%\" )\n",
    "    \n",
    "def prepare_col(df, base_col, target_col):\n",
    "    mean_df = df.groupby([base_col])[target_col].mean().to_frame()\n",
    "    target_index = mean_df.index\n",
    "    prepare_df = pd.concat([ (df.loc[df[base_col] == target_index[0]][target_col] - mean_df[target_col][target_index[0]]).to_frame(),\\\n",
    "                           (df.loc[df[base_col] == target_index[1]][target_col] - mean_df[target_col][target_index[1]]).to_frame(),\\\n",
    "                           (df.loc[df[base_col] == target_index[2]][target_col] - mean_df[target_col][target_index[2]]).to_frame(),\\\n",
    "                           (df.loc[df[base_col] == target_index[3]][target_col] - mean_df[target_col][target_index[3]]).to_frame(),\\\n",
    "                           (df.loc[df[base_col] == target_index[4]][target_col] - mean_df[target_col][target_index[4]]).to_frame(),\\\n",
    "                           (df.loc[df[base_col] == target_index[5]][target_col] - mean_df[target_col][target_index[5]]).to_frame(),\\\n",
    "                           (df.loc[df[base_col] == target_index[6]][target_col] - mean_df[target_col][target_index[6]]).to_frame()], axis=0)\n",
    "    \n",
    "    return prepare_df    "
   ]
  },
  {
   "cell_type": "markdown",
   "id": "4109964f-da8c-43de-9320-ad8459f522ab",
   "metadata": {},
   "source": [
    "# 1 - 1  고객 특성 데이터 전처리 "
   ]
  },
  {
   "cell_type": "code",
   "execution_count": 3,
   "id": "0821dd90-194b-4f21-893f-44f997a10833",
   "metadata": {
    "scrolled": true,
    "tags": []
   },
   "outputs": [
    {
     "name": "stdout",
     "output_type": "stream",
     "text": [
      "(22400, 25)\n",
      "CUST_ID               int64\n",
      "DIVIDED_SET           int64\n",
      "SIU_CUST_YN          object\n",
      "SEX                   int64\n",
      "AGE                   int64\n",
      "RESI_COST             int64\n",
      "RESI_TYPE_CODE      float64\n",
      "FP_CAREER            object\n",
      "CUST_RGST           float64\n",
      "CTPR                 object\n",
      "OCCP_GRP_1           object\n",
      "OCCP_GRP_2           object\n",
      "TOTALPREM           float64\n",
      "MINCRDT             float64\n",
      "MAXCRDT             float64\n",
      "WEDD_YN              object\n",
      "MATE_OCCP_GRP_1      object\n",
      "MATE_OCCP_GRP_2      object\n",
      "CHLD_CNT            float64\n",
      "LTBN_CHLD_AGE       float64\n",
      "MAX_PAYM_YM         float64\n",
      "MAX_PRM             float64\n",
      "CUST_INCM           float64\n",
      "RCBASE_HSHD_INCM      int64\n",
      "JPBASE_HSHD_INCM    float64\n",
      "dtype: object\n",
      "CUST_ID                 0\n",
      "DIVIDED_SET             0\n",
      "SIU_CUST_YN          1793\n",
      "SEX                     0\n",
      "AGE                     0\n",
      "RESI_COST               0\n",
      "RESI_TYPE_CODE       1254\n",
      "FP_CAREER               0\n",
      "CUST_RGST             456\n",
      "CTPR                  621\n",
      "OCCP_GRP_1            595\n",
      "OCCP_GRP_2            595\n",
      "TOTALPREM            5791\n",
      "MINCRDT              9476\n",
      "MAXCRDT              9476\n",
      "WEDD_YN               473\n",
      "MATE_OCCP_GRP_1     11827\n",
      "MATE_OCCP_GRP_2     11827\n",
      "CHLD_CNT              473\n",
      "LTBN_CHLD_AGE         473\n",
      "MAX_PAYM_YM          6486\n",
      "MAX_PRM              6486\n",
      "CUST_INCM            5263\n",
      "RCBASE_HSHD_INCM        0\n",
      "JPBASE_HSHD_INCM      680\n",
      "dtype: int64\n"
     ]
    },
    {
     "data": {
      "text/html": [
       "<div>\n",
       "<style scoped>\n",
       "    .dataframe tbody tr th:only-of-type {\n",
       "        vertical-align: middle;\n",
       "    }\n",
       "\n",
       "    .dataframe tbody tr th {\n",
       "        vertical-align: top;\n",
       "    }\n",
       "\n",
       "    .dataframe thead th {\n",
       "        text-align: right;\n",
       "    }\n",
       "</style>\n",
       "<table border=\"1\" class=\"dataframe\">\n",
       "  <thead>\n",
       "    <tr style=\"text-align: right;\">\n",
       "      <th></th>\n",
       "      <th>CUST_ID</th>\n",
       "      <th>DIVIDED_SET</th>\n",
       "      <th>SIU_CUST_YN</th>\n",
       "      <th>SEX</th>\n",
       "      <th>AGE</th>\n",
       "      <th>RESI_COST</th>\n",
       "      <th>RESI_TYPE_CODE</th>\n",
       "      <th>FP_CAREER</th>\n",
       "      <th>CUST_RGST</th>\n",
       "      <th>CTPR</th>\n",
       "      <th>...</th>\n",
       "      <th>WEDD_YN</th>\n",
       "      <th>MATE_OCCP_GRP_1</th>\n",
       "      <th>MATE_OCCP_GRP_2</th>\n",
       "      <th>CHLD_CNT</th>\n",
       "      <th>LTBN_CHLD_AGE</th>\n",
       "      <th>MAX_PAYM_YM</th>\n",
       "      <th>MAX_PRM</th>\n",
       "      <th>CUST_INCM</th>\n",
       "      <th>RCBASE_HSHD_INCM</th>\n",
       "      <th>JPBASE_HSHD_INCM</th>\n",
       "    </tr>\n",
       "  </thead>\n",
       "  <tbody>\n",
       "    <tr>\n",
       "      <th>22395</th>\n",
       "      <td>20048</td>\n",
       "      <td>2</td>\n",
       "      <td>NaN</td>\n",
       "      <td>1</td>\n",
       "      <td>34</td>\n",
       "      <td>5652</td>\n",
       "      <td>11.0</td>\n",
       "      <td>N</td>\n",
       "      <td>201103.0</td>\n",
       "      <td>경북</td>\n",
       "      <td>...</td>\n",
       "      <td>N</td>\n",
       "      <td>NaN</td>\n",
       "      <td>NaN</td>\n",
       "      <td>0.0</td>\n",
       "      <td>0.0</td>\n",
       "      <td>NaN</td>\n",
       "      <td>NaN</td>\n",
       "      <td>3331.0</td>\n",
       "      <td>3622</td>\n",
       "      <td>3331.0</td>\n",
       "    </tr>\n",
       "    <tr>\n",
       "      <th>22396</th>\n",
       "      <td>21483</td>\n",
       "      <td>1</td>\n",
       "      <td>N</td>\n",
       "      <td>2</td>\n",
       "      <td>30</td>\n",
       "      <td>31944</td>\n",
       "      <td>20.0</td>\n",
       "      <td>N</td>\n",
       "      <td>200306.0</td>\n",
       "      <td>경기</td>\n",
       "      <td>...</td>\n",
       "      <td>N</td>\n",
       "      <td>NaN</td>\n",
       "      <td>NaN</td>\n",
       "      <td>0.0</td>\n",
       "      <td>0.0</td>\n",
       "      <td>NaN</td>\n",
       "      <td>NaN</td>\n",
       "      <td>0.0</td>\n",
       "      <td>9361</td>\n",
       "      <td>8947.0</td>\n",
       "    </tr>\n",
       "    <tr>\n",
       "      <th>22397</th>\n",
       "      <td>21940</td>\n",
       "      <td>1</td>\n",
       "      <td>N</td>\n",
       "      <td>2</td>\n",
       "      <td>23</td>\n",
       "      <td>45972</td>\n",
       "      <td>20.0</td>\n",
       "      <td>N</td>\n",
       "      <td>200501.0</td>\n",
       "      <td>경기</td>\n",
       "      <td>...</td>\n",
       "      <td>N</td>\n",
       "      <td>NaN</td>\n",
       "      <td>NaN</td>\n",
       "      <td>0.0</td>\n",
       "      <td>0.0</td>\n",
       "      <td>NaN</td>\n",
       "      <td>NaN</td>\n",
       "      <td>0.0</td>\n",
       "      <td>11522</td>\n",
       "      <td>11484.0</td>\n",
       "    </tr>\n",
       "    <tr>\n",
       "      <th>22398</th>\n",
       "      <td>20356</td>\n",
       "      <td>1</td>\n",
       "      <td>N</td>\n",
       "      <td>1</td>\n",
       "      <td>15</td>\n",
       "      <td>27777</td>\n",
       "      <td>20.0</td>\n",
       "      <td>N</td>\n",
       "      <td>200306.0</td>\n",
       "      <td>경기</td>\n",
       "      <td>...</td>\n",
       "      <td>N</td>\n",
       "      <td>NaN</td>\n",
       "      <td>NaN</td>\n",
       "      <td>0.0</td>\n",
       "      <td>0.0</td>\n",
       "      <td>NaN</td>\n",
       "      <td>NaN</td>\n",
       "      <td>NaN</td>\n",
       "      <td>7960</td>\n",
       "      <td>7614.0</td>\n",
       "    </tr>\n",
       "    <tr>\n",
       "      <th>22399</th>\n",
       "      <td>17118</td>\n",
       "      <td>1</td>\n",
       "      <td>N</td>\n",
       "      <td>2</td>\n",
       "      <td>18</td>\n",
       "      <td>21527</td>\n",
       "      <td>20.0</td>\n",
       "      <td>N</td>\n",
       "      <td>200306.0</td>\n",
       "      <td>경기</td>\n",
       "      <td>...</td>\n",
       "      <td>N</td>\n",
       "      <td>NaN</td>\n",
       "      <td>NaN</td>\n",
       "      <td>0.0</td>\n",
       "      <td>0.0</td>\n",
       "      <td>NaN</td>\n",
       "      <td>NaN</td>\n",
       "      <td>NaN</td>\n",
       "      <td>7746</td>\n",
       "      <td>7746.0</td>\n",
       "    </tr>\n",
       "  </tbody>\n",
       "</table>\n",
       "<p>5 rows × 25 columns</p>\n",
       "</div>"
      ],
      "text/plain": [
       "       CUST_ID  DIVIDED_SET SIU_CUST_YN  SEX  AGE  RESI_COST  RESI_TYPE_CODE  \\\n",
       "22395    20048            2         NaN    1   34       5652            11.0   \n",
       "22396    21483            1           N    2   30      31944            20.0   \n",
       "22397    21940            1           N    2   23      45972            20.0   \n",
       "22398    20356            1           N    1   15      27777            20.0   \n",
       "22399    17118            1           N    2   18      21527            20.0   \n",
       "\n",
       "      FP_CAREER  CUST_RGST CTPR  ... WEDD_YN MATE_OCCP_GRP_1  MATE_OCCP_GRP_2  \\\n",
       "22395         N   201103.0   경북  ...       N             NaN              NaN   \n",
       "22396         N   200306.0   경기  ...       N             NaN              NaN   \n",
       "22397         N   200501.0   경기  ...       N             NaN              NaN   \n",
       "22398         N   200306.0   경기  ...       N             NaN              NaN   \n",
       "22399         N   200306.0   경기  ...       N             NaN              NaN   \n",
       "\n",
       "       CHLD_CNT  LTBN_CHLD_AGE MAX_PAYM_YM MAX_PRM CUST_INCM  \\\n",
       "22395       0.0            0.0         NaN     NaN    3331.0   \n",
       "22396       0.0            0.0         NaN     NaN       0.0   \n",
       "22397       0.0            0.0         NaN     NaN       0.0   \n",
       "22398       0.0            0.0         NaN     NaN       NaN   \n",
       "22399       0.0            0.0         NaN     NaN       NaN   \n",
       "\n",
       "       RCBASE_HSHD_INCM  JPBASE_HSHD_INCM  \n",
       "22395              3622            3331.0  \n",
       "22396              9361            8947.0  \n",
       "22397             11522           11484.0  \n",
       "22398              7960            7614.0  \n",
       "22399              7746            7746.0  \n",
       "\n",
       "[5 rows x 25 columns]"
      ]
     },
     "execution_count": 3,
     "metadata": {},
     "output_type": "execute_result"
    }
   ],
   "source": [
    "CUST = pd.read_csv('./dataset/real_insurance_data/BGCON_CUST_DATA_2.csv',delimiter = None,encoding='utf-8')\n",
    "print(CUST.shape)\n",
    "print(CUST.dtypes)\n",
    "print(CUST.isnull().sum())\n",
    "CUST.tail(5)"
   ]
  },
  {
   "cell_type": "markdown",
   "id": "2f41e80f-0f7b-4da0-ba4c-d84c405471cf",
   "metadata": {},
   "source": [
    "##### DIVIDED_SET컬럼의 2번 데이터는 경진대회 문제지 (제외) : SIU_CUST_YN(정답지)컬럼의 null값도 사라짐"
   ]
  },
  {
   "cell_type": "code",
   "execution_count": 4,
   "id": "49d735cb-68ae-4ca5-9343-9c9335a8c1e3",
   "metadata": {},
   "outputs": [
    {
     "name": "stdout",
     "output_type": "stream",
     "text": [
      "SIU_CUST_YN 의 None값  8.0 %\n"
     ]
    }
   ],
   "source": [
    "None_percentage(CUST, 'SIU_CUST_YN')\n",
    "CUST_NY = CUST.loc[CUST['DIVIDED_SET'] == 1]"
   ]
  },
  {
   "cell_type": "markdown",
   "id": "6c435183-7914-4077-b66a-f5f4e02f478f",
   "metadata": {},
   "source": [
    "##### CTPR(시도구분)컬럼의 null값은 가장 많은 지역인 경기도로 변경"
   ]
  },
  {
   "cell_type": "code",
   "execution_count": 5,
   "id": "42160638-9fbb-4b56-a770-4dcd7440698d",
   "metadata": {},
   "outputs": [
    {
     "name": "stdout",
     "output_type": "stream",
     "text": [
      "CTPR 의 None값  2.79 %\n"
     ]
    }
   ],
   "source": [
    "None_percentage(CUST_NY, 'CTPR')\n",
    "CUST_NY.loc[CUST_NY['CTPR'].isnull(),'CTPR'] = '경기'"
   ]
  },
  {
   "cell_type": "markdown",
   "id": "365b6082-7b31-4b03-bf0b-d83325fb0c24",
   "metadata": {},
   "source": [
    "##### RESI_TYPE_CODE(거주TYPE)컬럼의 null값은 시도구분 컬럼 기준으로 많은 type의 건물로 맵핑"
   ]
  },
  {
   "cell_type": "code",
   "execution_count": 6,
   "id": "e7040e11-65f9-4035-8962-3fe75609b570",
   "metadata": {},
   "outputs": [
    {
     "name": "stdout",
     "output_type": "stream",
     "text": [
      "RESI_TYPE_CODE 의 None값  5.56 %\n"
     ]
    }
   ],
   "source": [
    "None_percentage(CUST_NY, 'RESI_TYPE_CODE')\n",
    "\n",
    "CUST_NY['RESI_TYPE_CODE'] = CUST_NY['RESI_TYPE_CODE'].fillna(0, axis=0)\n",
    "\n",
    "frequency_apply(CUST_NY, 'CTPR', 'RESI_TYPE_CODE')\n",
    "\n",
    "CUST_NY = CUST_NY.astype({'RESI_TYPE_CODE': str})"
   ]
  },
  {
   "cell_type": "markdown",
   "id": "bd77bca3-1589-4add-bcbb-88c56b22bbb0",
   "metadata": {},
   "source": [
    "##### RESI_COST(주택가격)컬럼의 null값은 거주TYPE기준으로 groupby진행해서 평균값으로 변경\n",
    "##### 거주TYPE이 '숙박업소의 객실 또는 판자집'으로 되어있는 경우 0원으로 변경"
   ]
  },
  {
   "cell_type": "code",
   "execution_count": 7,
   "id": "e677c6cc-efca-456d-9e85-1804dc897909",
   "metadata": {},
   "outputs": [
    {
     "name": "stdout",
     "output_type": "stream",
     "text": [
      "count     20607.000000\n",
      "mean      15944.537293\n",
      "std       14897.582633\n",
      "min           0.000000\n",
      "25%        6748.000000\n",
      "50%       12222.000000\n",
      "75%       21111.000000\n",
      "max      249503.000000\n",
      "Name: RESI_COST, dtype: float64\n",
      "RESI_COST 의 None값  0.0 %\n"
     ]
    }
   ],
   "source": [
    "print(CUST_NY['RESI_COST'].describe())\n",
    "\n",
    "None_percentage(CUST_NY, 'RESI_COST')\n",
    "\n",
    "CTPR_index = CUST_NY['CUST_ID'].groupby(CUST_NY['CTPR']).count().index\n",
    "\n",
    "# RESI_COST컬럼의 결측값을 채워줌\n",
    "for i in range(0,len(CTPR_index)):\n",
    "    list_1 = CUST_NY.loc[(CUST_NY['CTPR'] == CTPR_index[i]) & (CUST_NY['RESI_COST']!=0)]['RESI_COST'].groupby(CUST_NY['RESI_TYPE_CODE']).median()\n",
    "    \n",
    "    for j in range(0,len(list_1)):\n",
    "        # CUST_NY.loc[(CUST_NY['CTPR'] == CTPR_index[i]) & (CUST_NY['RESI_COST'] == 0),'RESI_COST'] = list_1.index[np.argmax(list_1)]\n",
    "        if len(CUST_NY.loc[(CUST_NY['CTPR'] == CTPR_index[i]) & (CUST_NY['RESI_COST']==0) & (CUST_NY['RESI_TYPE_CODE'] == list_1.index[j])]) > 0:\n",
    "            CUST_NY.loc[(CUST_NY['CTPR'] == CTPR_index[i]) & (CUST_NY['RESI_COST']==0) & (CUST_NY['RESI_TYPE_CODE'] == list_1.index[j]),'RESI_COST'] = list_1.values[j]    "
   ]
  },
  {
   "cell_type": "code",
   "execution_count": 8,
   "id": "2d970cd7-bf51-4be9-adf0-741ccdca1f71",
   "metadata": {},
   "outputs": [
    {
     "name": "stdout",
     "output_type": "stream",
     "text": [
      "<class 'pandas.core.frame.DataFrame'>\n",
      "Int64Index: 20607 entries, 0 to 22399\n",
      "Data columns (total 25 columns):\n",
      " #   Column            Non-Null Count  Dtype  \n",
      "---  ------            --------------  -----  \n",
      " 0   CUST_ID           20607 non-null  int64  \n",
      " 1   DIVIDED_SET       20607 non-null  int64  \n",
      " 2   SIU_CUST_YN       20607 non-null  object \n",
      " 3   SEX               20607 non-null  int64  \n",
      " 4   AGE               20607 non-null  int64  \n",
      " 5   RESI_COST         20607 non-null  float64\n",
      " 6   RESI_TYPE_CODE    20607 non-null  object \n",
      " 7   FP_CAREER         20607 non-null  object \n",
      " 8   CUST_RGST         20188 non-null  float64\n",
      " 9   CTPR              20607 non-null  object \n",
      " 10  OCCP_GRP_1        20060 non-null  object \n",
      " 11  OCCP_GRP_2        20060 non-null  object \n",
      " 12  TOTALPREM         15286 non-null  float64\n",
      " 13  MINCRDT           11841 non-null  float64\n",
      " 14  MAXCRDT           11841 non-null  float64\n",
      " 15  WEDD_YN           20173 non-null  object \n",
      " 16  MATE_OCCP_GRP_1   9722 non-null   object \n",
      " 17  MATE_OCCP_GRP_2   9722 non-null   object \n",
      " 18  CHLD_CNT          20173 non-null  float64\n",
      " 19  LTBN_CHLD_AGE     20173 non-null  float64\n",
      " 20  MAX_PAYM_YM       14641 non-null  float64\n",
      " 21  MAX_PRM           14641 non-null  float64\n",
      " 22  CUST_INCM         15784 non-null  float64\n",
      " 23  RCBASE_HSHD_INCM  20607 non-null  int64  \n",
      " 24  JPBASE_HSHD_INCM  19991 non-null  float64\n",
      "dtypes: float64(11), int64(5), object(9)\n",
      "memory usage: 4.6+ MB\n"
     ]
    }
   ],
   "source": [
    "CUST_NY.info()"
   ]
  },
  {
   "cell_type": "markdown",
   "id": "828168ef-c72c-437f-b3dd-a4b6e632439f",
   "metadata": {},
   "source": [
    "##### CUST_RGST(고객등록년월)컬럼은 2016년 8월을 기준으로 얼마나 가입했는지 나타내도록 변경함. null값은 평균 가입일수로 변경"
   ]
  },
  {
   "cell_type": "code",
   "execution_count": 9,
   "id": "cc2f6fd2-f68b-409f-ae37-5b58600e0fcb",
   "metadata": {},
   "outputs": [
    {
     "name": "stdout",
     "output_type": "stream",
     "text": [
      "count     20188.000000\n",
      "mean     198907.676392\n",
      "std       17088.418731\n",
      "min         101.000000\n",
      "25%      200306.000000\n",
      "50%      200306.000000\n",
      "75%      200401.000000\n",
      "max      201602.000000\n",
      "Name: CUST_RGST, dtype: float64\n",
      "CUST_RGST 의 None값  2.03 %\n"
     ]
    }
   ],
   "source": [
    "print(CUST_NY['CUST_RGST'].describe())\n",
    "CUST_NY['CUST_RGST_year'] = pd.to_datetime(CUST_NY['CUST_RGST']).dt.year\n",
    "None_percentage(CUST_NY, 'CUST_RGST')\n",
    "\n",
    "# CUST_NY['CUST_RGST_year'] = CUST_NY['CUST_RGST'].dt.year\n",
    "\n",
    "CUST_NY.loc[CUST_NY['CUST_RGST'].notnull()]['CUST_ID'].groupby(CUST_NY['CUST_RGST']).count().index > 99999\n",
    "\n",
    "CUST_NY.loc[CUST_NY['CUST_RGST']==101,'CUST_RGST'] = 0\n",
    "CUST_NY['CUST_RGST'] = CUST_NY['CUST_RGST'].fillna(0,axis=0)\n",
    "\n",
    "CUST_NY = CUST_NY.astype({'CUST_RGST': int})\n",
    "\n",
    "CUST_NY = CUST_NY.astype({'CUST_RGST': str})\n",
    "\n",
    "\n",
    "CUST_NY.loc[CUST_NY['CUST_RGST'] != '0','CUST_RGST'] = (dt.datetime(2016, 8, 1) - pd.to_datetime(CUST_NY.loc[CUST_NY['CUST_RGST'] != '0']['CUST_RGST'],format='%Y%m')).dt.days\n",
    "\n",
    "sum_value = 0\n",
    "temp = len(CUST_NY.loc[CUST_NY['CUST_RGST'] != '0']['CUST_ID'].groupby(CUST_NY['CUST_RGST']).count().index)\n",
    "\n",
    "for i in range(0,temp):\n",
    "    sum_value = sum_value + CUST_NY.loc[CUST_NY['CUST_RGST'] != '0']['CUST_ID'].groupby(CUST_NY['CUST_RGST']).count().index[i]\n",
    "mean_value = sum_value / temp  \n",
    "\n",
    "CUST_NY.loc[CUST_NY['CUST_RGST'] == '0','CUST_RGST'] = int(mean_value)\n",
    "CUST_NY = CUST_NY.astype({'CUST_RGST':float})"
   ]
  },
  {
   "cell_type": "markdown",
   "id": "0b0eb04f-2bfd-4fa8-8b5d-2ca6f0c23dd2",
   "metadata": {},
   "source": [
    "##### OCCP_GRP_1(직업분류코드1)과 OCCP_GRP_2(직업분류코드2)컬럼의 null값은 groupby를 통해 빈도수가 많은 직업분류로 맵핑"
   ]
  },
  {
   "cell_type": "code",
   "execution_count": 10,
   "id": "3a201f97-f07d-4e84-93c1-385fec9635ae",
   "metadata": {},
   "outputs": [
    {
     "name": "stdout",
     "output_type": "stream",
     "text": [
      "OCCP_GRP_1 의 None값  2.65 %\n",
      "OCCP_GRP_2 의 None값  2.65 %\n"
     ]
    }
   ],
   "source": [
    "None_percentage(CUST_NY, 'OCCP_GRP_1')\n",
    "None_percentage(CUST_NY, 'OCCP_GRP_2')\n",
    "\n",
    "num = np.argmax(CUST_NY.loc[CUST_NY['OCCP_GRP_1'].notnull()]['CUST_ID'].groupby(CUST_NY['OCCP_GRP_1']).count())\n",
    "target = CUST_NY.loc[CUST_NY['OCCP_GRP_1'].notnull()]['CUST_ID'].groupby(CUST_NY['OCCP_GRP_1']).count().index[num]\n",
    "CUST_NY.loc[CUST_NY['OCCP_GRP_1'].isnull(),'OCCP_GRP_1'] = target\n",
    "\n",
    "num = np.argmax(CUST_NY.loc[(CUST_NY['OCCP_GRP_2'].notnull()) & (CUST_NY['OCCP_GRP_1'] == target)]['CUST_ID'].groupby(CUST_NY['OCCP_GRP_2']).count())\n",
    "target = CUST_NY.loc[(CUST_NY['OCCP_GRP_2'].notnull()) & (CUST_NY['OCCP_GRP_1'] == target)]['CUST_ID'].groupby(CUST_NY['OCCP_GRP_2']).count().index[num]\n",
    "CUST_NY.loc[CUST_NY['OCCP_GRP_2'].isnull(),'OCCP_GRP_2'] = target"
   ]
  },
  {
   "cell_type": "markdown",
   "id": "13565ff5-2b04-43dd-94db-9b4cbb2d9857",
   "metadata": {},
   "source": [
    "##### TOTALPREM(납입총보험료)컬럼의 null값은 groupby를 통해 직업군별 중앙값으로 적용"
   ]
  },
  {
   "cell_type": "code",
   "execution_count": 11,
   "id": "852125c6-ee36-4a38-9a1f-b8dc65162c76",
   "metadata": {},
   "outputs": [
    {
     "name": "stdout",
     "output_type": "stream",
     "text": [
      "count    1.528600e+04\n",
      "mean     3.010216e+07\n",
      "std      4.945351e+07\n",
      "min      5.000000e+02\n",
      "25%      6.681712e+06\n",
      "50%      1.618889e+07\n",
      "75%      3.479242e+07\n",
      "max      1.840052e+09\n",
      "Name: TOTALPREM, dtype: float64\n",
      "TOTALPREM 의 None값  25.82 %\n"
     ]
    }
   ],
   "source": [
    "print(CUST_NY['TOTALPREM'].describe())\n",
    "\n",
    "None_percentage(CUST_NY, 'TOTALPREM')\n",
    "arr_1 = CUST_NY.loc[CUST_NY['TOTALPREM'].notnull()]['TOTALPREM'].groupby(CUST_NY['OCCP_GRP_1']).median().index\n",
    "arr_2 = CUST_NY.loc[CUST_NY['TOTALPREM'].notnull()]['TOTALPREM'].groupby(CUST_NY['OCCP_GRP_1']).median().values\n",
    "\n",
    "for i in range(0,len(arr_1)):\n",
    "    CUST_NY.loc[(CUST_NY['TOTALPREM'].isnull()) & (CUST_NY['OCCP_GRP_1'] == arr_1[i]), 'TOTALPREM'] = arr_2[i]"
   ]
  },
  {
   "cell_type": "markdown",
   "id": "21ff07b8-be91-43b5-b2ee-0a0109e58a17",
   "metadata": {},
   "source": [
    "##### WEDD_YN(결혼여부)컬럼의 null값은 N으로 변경"
   ]
  },
  {
   "cell_type": "code",
   "execution_count": 12,
   "id": "7a70c04a-8138-4fa3-94f8-d15a45be769c",
   "metadata": {},
   "outputs": [
    {
     "name": "stdout",
     "output_type": "stream",
     "text": [
      "WEDD_YN 의 None값  2.11 %\n"
     ]
    }
   ],
   "source": [
    "None_percentage(CUST_NY, 'WEDD_YN')\n",
    "CUST_NY.loc[CUST_NY['WEDD_YN'].isnull(),'WEDD_YN'] = 'N'"
   ]
  },
  {
   "cell_type": "markdown",
   "id": "92b9f7be-49f1-4940-82e2-7ac969b27639",
   "metadata": {},
   "source": [
    "##### MATE_OCCP_GRP_1(배우자직업그룹코드1)과 MATE_OCCP_GRP_2(배우자직업그룹코드2)는 null값의 비중이 크고 null값에 대한 별도의 기준이 없으므로 삭제"
   ]
  },
  {
   "cell_type": "code",
   "execution_count": 13,
   "id": "b1659570-46fe-43b1-9f14-512c5ae8b687",
   "metadata": {},
   "outputs": [
    {
     "name": "stdout",
     "output_type": "stream",
     "text": [
      "MATE_OCCP_GRP_1 의 None값  52.82 %\n",
      "MATE_OCCP_GRP_2 의 None값  52.82 %\n"
     ]
    }
   ],
   "source": [
    "None_percentage(CUST_NY, 'MATE_OCCP_GRP_1')\n",
    "None_percentage(CUST_NY, 'MATE_OCCP_GRP_2')\n",
    "CUST_NY.drop(['MATE_OCCP_GRP_1','MATE_OCCP_GRP_2'], axis=1, inplace=True)"
   ]
  },
  {
   "cell_type": "markdown",
   "id": "0a8b06e3-af11-4987-81b8-334be7e9164f",
   "metadata": {},
   "source": [
    "##### CHLD_CNT(자녀수)와 LTBN_CHLD_AGE(막내자녀연령)의 null값은 WEDD_YN(결혼여부)컬럼 null값과 행이 동일하므로 모두 0으로 맵핑"
   ]
  },
  {
   "cell_type": "code",
   "execution_count": 14,
   "id": "9d68b0f2-65af-4df1-8553-fd52e87e54f5",
   "metadata": {},
   "outputs": [
    {
     "name": "stdout",
     "output_type": "stream",
     "text": [
      "CHLD_CNT 의 None값  2.11 %\n",
      "LTBN_CHLD_AGE 의 None값  2.11 %\n"
     ]
    }
   ],
   "source": [
    "None_percentage(CUST_NY, 'CHLD_CNT')\n",
    "None_percentage(CUST_NY, 'LTBN_CHLD_AGE')\n",
    "\n",
    "CUST_NY.loc[CUST_NY['CHLD_CNT'].isnull(),'CHLD_CNT'] = 0\n",
    "CUST_NY.loc[CUST_NY['LTBN_CHLD_AGE'].isnull(),'LTBN_CHLD_AGE'] = 0"
   ]
  },
  {
   "cell_type": "markdown",
   "id": "2e06c171-8297-4c9d-93bb-646055e0838f",
   "metadata": {},
   "source": [
    "##### CUST_INCM(고객추정소득)컬럼의 null값의 각 직업군의 대분류와 소분류를 합친 기준으로 중앙값으로 대체"
   ]
  },
  {
   "cell_type": "code",
   "execution_count": 15,
   "id": "805a00eb-f2f3-44bf-bde9-cf4d03de2def",
   "metadata": {
    "scrolled": true,
    "tags": []
   },
   "outputs": [
    {
     "name": "stdout",
     "output_type": "stream",
     "text": [
      "CUST_INCM 의 None값  23.400000000000002 %\n"
     ]
    }
   ],
   "source": [
    "None_percentage(CUST_NY, 'CUST_INCM')\n",
    "\n",
    "kinds = CUST_NY.loc[CUST_NY['CUST_INCM'].notnull()].groupby(['OCCP_GRP_1','OCCP_GRP_2'])['CUST_INCM'].median().index\n",
    "df_target = CUST_NY.loc[CUST_NY['CUST_INCM'].isnull()]\n",
    "len_1 = len(df_target.index)\n",
    "len_2 = len(kinds)\n",
    "\n",
    "for i in range(0,len_1):\n",
    "    for j in range(0,len_2):\n",
    "        if df_target['OCCP_GRP_1'].values[i] == kinds[j][0]:\n",
    "            for k in range(0,len(kinds[j])):\n",
    "                if df_target['OCCP_GRP_2'].values[i] == kinds[j][k]:\n",
    "                    discovery = CUST_NY.loc[ (CUST_NY['CUST_INCM'].notnull()) & (CUST_NY['OCCP_GRP_1'] == kinds[j][0])\\\n",
    "                                            & (CUST_NY['OCCP_GRP_2'] == kinds[j][k])]['CUST_INCM'].median()\n",
    "                    \n",
    "                    CUST_NY.loc[ (CUST_NY['CUST_INCM'].isnull()) & (CUST_NY['OCCP_GRP_1'] == kinds[j][0])\\\n",
    "                                            & (CUST_NY['OCCP_GRP_2'] == kinds[j][k]),'CUST_INCM'] = discovery "
   ]
  },
  {
   "cell_type": "code",
   "execution_count": 16,
   "id": "8d5dcb25-f12b-4dac-8741-2ad8a5031411",
   "metadata": {
    "scrolled": true,
    "tags": []
   },
   "outputs": [],
   "source": [
    "CUST_NY = CUST_NY.loc[CUST_NY['CUST_INCM'].notnull()]                    "
   ]
  },
  {
   "cell_type": "markdown",
   "id": "7c560e65-e00a-4d0e-9763-96fa93dd06ae",
   "metadata": {},
   "source": [
    "##### MAX_PAYM_YM(최대보험료연월), MAX_PRM(최대보험료)컬럼들은 중요해 보이지만 null값의 비중이 크고 null값에 대한 별도의 기준이 없으므로 삭제"
   ]
  },
  {
   "cell_type": "code",
   "execution_count": 17,
   "id": "2e163e5a-7d75-42b3-944b-67b41e644455",
   "metadata": {},
   "outputs": [
    {
     "name": "stdout",
     "output_type": "stream",
     "text": [
      "MAX_PAYM_YM 의 None값  28.95 %\n",
      "MAX_PRM 의 None값  28.95 %\n"
     ]
    }
   ],
   "source": [
    "None_percentage(CUST_NY, 'MAX_PAYM_YM')\n",
    "None_percentage(CUST_NY, 'MAX_PRM')\n",
    "\n",
    "CUST_NY.drop(['MAX_PAYM_YM','MAX_PRM'], axis=1, inplace=True)"
   ]
  },
  {
   "cell_type": "markdown",
   "id": "b948c1a0-74f8-49fa-96a8-3390ab600058",
   "metadata": {},
   "source": [
    "##### MAXCRDT(최고신용등급)과 MINCRDT(최저신용등급)컬럼의 null값은 6등급으로 맵핑"
   ]
  },
  {
   "cell_type": "code",
   "execution_count": 18,
   "id": "53708509-a367-489d-a44c-5759deae47f2",
   "metadata": {},
   "outputs": [
    {
     "name": "stdout",
     "output_type": "stream",
     "text": [
      "MINCRDT 의 None값  42.54 %\n",
      "MAXCRDT 의 None값  42.54 %\n"
     ]
    }
   ],
   "source": [
    "None_percentage(CUST_NY, 'MINCRDT')\n",
    "None_percentage(CUST_NY, 'MAXCRDT')\n",
    "CUST_NY.loc[CUST_NY['MINCRDT'].isnull(),'MINCRDT'] = 6.0\n",
    "CUST_NY.loc[CUST_NY['MAXCRDT'].isnull(),'MAXCRDT'] = 6.0\n",
    "\n",
    "CUST_NY.loc[CUST_NY['MINCRDT'] < 1,'MINCRDT'] = 1\n",
    "CUST_NY.loc[CUST_NY['MAXCRDT'] < 1,'MAXCRDT'] = 1\n",
    "\n",
    "CUST_NY.loc[CUST_NY['MINCRDT'] > 10,'MINCRDT'] = 6\n",
    "CUST_NY.loc[CUST_NY['MAXCRDT'] > 10,'MAXCRDT'] = 6"
   ]
  },
  {
   "cell_type": "markdown",
   "id": "ac3a64dd-295c-4e33-92d8-91772896c6ec",
   "metadata": {},
   "source": [
    "##### JPBASE_HSHD_INCM(추정가구소득2)컬럼의 null값은 직업분류컬럼을 groupby해서 평균소득으로 변경함"
   ]
  },
  {
   "cell_type": "code",
   "execution_count": 19,
   "id": "1c28fd02-e484-4894-8982-5dcc4a0d4a53",
   "metadata": {},
   "outputs": [
    {
     "name": "stdout",
     "output_type": "stream",
     "text": [
      "count    19990.000000\n",
      "mean      5204.012856\n",
      "std       2716.401113\n",
      "min          0.000000\n",
      "25%       3558.000000\n",
      "50%       4686.500000\n",
      "75%       6848.500000\n",
      "max      25872.000000\n",
      "Name: JPBASE_HSHD_INCM, dtype: float64\n",
      "JPBASE_HSHD_INCM 의 None값  2.9899999999999998 %\n"
     ]
    }
   ],
   "source": [
    "print(CUST_NY['JPBASE_HSHD_INCM'].describe())\n",
    "\n",
    "None_percentage(CUST_NY, 'JPBASE_HSHD_INCM')\n",
    "\n",
    "arr_1 = CUST_NY.loc[CUST_NY['JPBASE_HSHD_INCM'].notnull()]['JPBASE_HSHD_INCM'].groupby(CUST_NY['OCCP_GRP_1']).median().index\n",
    "arr_2 = CUST_NY.loc[CUST_NY['JPBASE_HSHD_INCM'].notnull()]['JPBASE_HSHD_INCM'].groupby(CUST_NY['OCCP_GRP_1']).median().values\n",
    "\n",
    "for i in range(0,len(arr_1)):\n",
    "    CUST_NY.loc[(CUST_NY['JPBASE_HSHD_INCM'].isnull()) & (CUST_NY['OCCP_GRP_1'] == arr_1[i]), 'JPBASE_HSHD_INCM'] = arr_2[i]"
   ]
  },
  {
   "cell_type": "code",
   "execution_count": 20,
   "id": "7f89d641-856b-4e75-8bde-073386f35436",
   "metadata": {},
   "outputs": [],
   "source": [
    "CUST_NY.drop(['DIVIDED_SET'], axis=1,inplace=True)"
   ]
  },
  {
   "cell_type": "markdown",
   "id": "9ec01627-523c-4e34-b794-c98d9b00d38d",
   "metadata": {},
   "source": [
    "##### null값 확인"
   ]
  },
  {
   "cell_type": "code",
   "execution_count": 21,
   "id": "b551ccd5-75a3-4caa-8b15-028ce960240b",
   "metadata": {},
   "outputs": [
    {
     "data": {
      "text/plain": [
       "CUST_ID               0\n",
       "SIU_CUST_YN           0\n",
       "SEX                   0\n",
       "AGE                   0\n",
       "RESI_COST             0\n",
       "RESI_TYPE_CODE        0\n",
       "FP_CAREER             0\n",
       "CUST_RGST             0\n",
       "CTPR                  0\n",
       "OCCP_GRP_1            0\n",
       "OCCP_GRP_2            0\n",
       "TOTALPREM             0\n",
       "MINCRDT               0\n",
       "MAXCRDT               0\n",
       "WEDD_YN               0\n",
       "CHLD_CNT              0\n",
       "LTBN_CHLD_AGE         0\n",
       "CUST_INCM             0\n",
       "RCBASE_HSHD_INCM      0\n",
       "JPBASE_HSHD_INCM      0\n",
       "CUST_RGST_year      419\n",
       "dtype: int64"
      ]
     },
     "execution_count": 21,
     "metadata": {},
     "output_type": "execute_result"
    }
   ],
   "source": [
    "CUST_NY.isnull().sum()"
   ]
  },
  {
   "cell_type": "code",
   "execution_count": 22,
   "id": "c2279c62-9d8f-427c-a37c-04f35431790c",
   "metadata": {},
   "outputs": [
    {
     "name": "stdout",
     "output_type": "stream",
     "text": [
      "<class 'pandas.core.frame.DataFrame'>\n",
      "Int64Index: 20606 entries, 0 to 22399\n",
      "Data columns (total 21 columns):\n",
      " #   Column            Non-Null Count  Dtype  \n",
      "---  ------            --------------  -----  \n",
      " 0   CUST_ID           20606 non-null  int64  \n",
      " 1   SIU_CUST_YN       20606 non-null  object \n",
      " 2   SEX               20606 non-null  int64  \n",
      " 3   AGE               20606 non-null  int64  \n",
      " 4   RESI_COST         20606 non-null  float64\n",
      " 5   RESI_TYPE_CODE    20606 non-null  object \n",
      " 6   FP_CAREER         20606 non-null  object \n",
      " 7   CUST_RGST         20606 non-null  float64\n",
      " 8   CTPR              20606 non-null  object \n",
      " 9   OCCP_GRP_1        20606 non-null  object \n",
      " 10  OCCP_GRP_2        20606 non-null  object \n",
      " 11  TOTALPREM         20606 non-null  float64\n",
      " 12  MINCRDT           20606 non-null  float64\n",
      " 13  MAXCRDT           20606 non-null  float64\n",
      " 14  WEDD_YN           20606 non-null  object \n",
      " 15  CHLD_CNT          20606 non-null  float64\n",
      " 16  LTBN_CHLD_AGE     20606 non-null  float64\n",
      " 17  CUST_INCM         20606 non-null  float64\n",
      " 18  RCBASE_HSHD_INCM  20606 non-null  int64  \n",
      " 19  JPBASE_HSHD_INCM  20606 non-null  float64\n",
      " 20  CUST_RGST_year    20187 non-null  float64\n",
      "dtypes: float64(10), int64(4), object(7)\n",
      "memory usage: 4.0+ MB\n"
     ]
    }
   ],
   "source": [
    "CUST_NY.info()"
   ]
  },
  {
   "cell_type": "markdown",
   "id": "8655381a-b9eb-4f99-8229-9544e2b94f48",
   "metadata": {},
   "source": [
    "##### 범주형 데이터인데 숫자형으로 되어있을 경우 변경해줌"
   ]
  },
  {
   "cell_type": "code",
   "execution_count": 23,
   "id": "4d672d66-170b-4fb2-b972-a0d878905043",
   "metadata": {},
   "outputs": [],
   "source": [
    "CUST_NY = CUST_NY.astype({'SEX':str\n",
    "                         ,'MINCRDT':str\n",
    "                         ,'MAXCRDT':str})          "
   ]
  },
  {
   "cell_type": "markdown",
   "id": "55e46685-d4e2-4649-ac1b-761be1be9f15",
   "metadata": {},
   "source": [
    "# 1 - 2 보험 청구 데이터 전처리"
   ]
  },
  {
   "cell_type": "code",
   "execution_count": 24,
   "id": "340d6dd8-6929-446e-bb07-571c7b7e62d3",
   "metadata": {
    "scrolled": true,
    "tags": []
   },
   "outputs": [
    {
     "name": "stdout",
     "output_type": "stream",
     "text": [
      "(119020, 39)\n",
      "<class 'pandas.core.frame.DataFrame'>\n",
      "RangeIndex: 119020 entries, 0 to 119019\n",
      "Data columns (total 39 columns):\n",
      " #   Column           Non-Null Count   Dtype  \n",
      "---  ------           --------------   -----  \n",
      " 0   CUST_ID          119020 non-null  int64  \n",
      " 1   POLY_NO          119020 non-null  int64  \n",
      " 2   ACCI_OCCP_GRP1   117603 non-null  object \n",
      " 3   ACCI_OCCP_GRP2   117603 non-null  object \n",
      " 4   CHANG_FP_YN      119020 non-null  object \n",
      " 5   CNTT_RECP_SQNO   119020 non-null  float64\n",
      " 6   RECP_DATE        119020 non-null  int64  \n",
      " 7   ORIG_RESN_DATE   119020 non-null  int64  \n",
      " 8   RESN_DATE        119020 non-null  int64  \n",
      " 9   CRNT_PROG_DVSN   119020 non-null  int64  \n",
      " 10  ACCI_DVSN        119020 non-null  int64  \n",
      " 11  CAUS_CODE        119020 non-null  object \n",
      " 12  CAUS_CODE_DTAL   119020 non-null  object \n",
      " 13  DSAS_NAME        119020 non-null  object \n",
      " 14  DMND_RESN_CODE   119020 non-null  int64  \n",
      " 15  DMND_RSCD_SQNO   119020 non-null  int64  \n",
      " 16  HOSP_OTPA_STDT   86449 non-null   float64\n",
      " 17  HOSP_OTPA_ENDT   86449 non-null   float64\n",
      " 18  RESL_CD1         119020 non-null  object \n",
      " 19  RESL_NM1         119020 non-null  object \n",
      " 20  VLID_HOSP_OTDA   119020 non-null  int64  \n",
      " 21  HOUSE_HOSP_DIST  101972 non-null  float64\n",
      " 22  HOSP_CODE        119011 non-null  float64\n",
      " 23  ACCI_HOSP_ADDR   108950 non-null  object \n",
      " 24  HOSP_SPEC_DVSN   119011 non-null  float64\n",
      " 25  CHME_LICE_NO     119020 non-null  int64  \n",
      " 26  PAYM_DATE        119007 non-null  float64\n",
      " 27  DMND_AMT         119020 non-null  int64  \n",
      " 28  PAYM_AMT         119020 non-null  int64  \n",
      " 29  PMMI_DLNG_YN     119020 non-null  object \n",
      " 30  SELF_CHAM        18967 non-null   float64\n",
      " 31  NON_PAY          18967 non-null   float64\n",
      " 32  TAMT_SFCA        18967 non-null   float64\n",
      " 33  PATT_CHRG_TOTA   18967 non-null   float64\n",
      " 34  DSCT_AMT         18967 non-null   float64\n",
      " 35  COUNT_TRMT_ITEM  18967 non-null   float64\n",
      " 36  DCAF_CMPS_XCPA   8057 non-null    float64\n",
      " 37  NON_PAY_RATIO    119020 non-null  int64  \n",
      " 38  HEED_HOSP_YN     119020 non-null  object \n",
      "dtypes: float64(14), int64(14), object(11)\n",
      "memory usage: 119.8 MB\n",
      "None\n",
      "CUST_ID                 0\n",
      "POLY_NO                 0\n",
      "ACCI_OCCP_GRP1       1417\n",
      "ACCI_OCCP_GRP2       1417\n",
      "CHANG_FP_YN             0\n",
      "CNTT_RECP_SQNO          0\n",
      "RECP_DATE               0\n",
      "ORIG_RESN_DATE          0\n",
      "RESN_DATE               0\n",
      "CRNT_PROG_DVSN          0\n",
      "ACCI_DVSN               0\n",
      "CAUS_CODE               0\n",
      "CAUS_CODE_DTAL          0\n",
      "DSAS_NAME               0\n",
      "DMND_RESN_CODE          0\n",
      "DMND_RSCD_SQNO          0\n",
      "HOSP_OTPA_STDT      32571\n",
      "HOSP_OTPA_ENDT      32571\n",
      "RESL_CD1                0\n",
      "RESL_NM1                0\n",
      "VLID_HOSP_OTDA          0\n",
      "HOUSE_HOSP_DIST     17048\n",
      "HOSP_CODE               9\n",
      "ACCI_HOSP_ADDR      10070\n",
      "HOSP_SPEC_DVSN          9\n",
      "CHME_LICE_NO            0\n",
      "PAYM_DATE              13\n",
      "DMND_AMT                0\n",
      "PAYM_AMT                0\n",
      "PMMI_DLNG_YN            0\n",
      "SELF_CHAM          100053\n",
      "NON_PAY            100053\n",
      "TAMT_SFCA          100053\n",
      "PATT_CHRG_TOTA     100053\n",
      "DSCT_AMT           100053\n",
      "COUNT_TRMT_ITEM    100053\n",
      "DCAF_CMPS_XCPA     110963\n",
      "NON_PAY_RATIO           0\n",
      "HEED_HOSP_YN            0\n",
      "dtype: int64\n"
     ]
    },
    {
     "data": {
      "text/html": [
       "<div>\n",
       "<style scoped>\n",
       "    .dataframe tbody tr th:only-of-type {\n",
       "        vertical-align: middle;\n",
       "    }\n",
       "\n",
       "    .dataframe tbody tr th {\n",
       "        vertical-align: top;\n",
       "    }\n",
       "\n",
       "    .dataframe thead th {\n",
       "        text-align: right;\n",
       "    }\n",
       "</style>\n",
       "<table border=\"1\" class=\"dataframe\">\n",
       "  <thead>\n",
       "    <tr style=\"text-align: right;\">\n",
       "      <th></th>\n",
       "      <th>CUST_ID</th>\n",
       "      <th>POLY_NO</th>\n",
       "      <th>ACCI_OCCP_GRP1</th>\n",
       "      <th>ACCI_OCCP_GRP2</th>\n",
       "      <th>CHANG_FP_YN</th>\n",
       "      <th>CNTT_RECP_SQNO</th>\n",
       "      <th>RECP_DATE</th>\n",
       "      <th>ORIG_RESN_DATE</th>\n",
       "      <th>RESN_DATE</th>\n",
       "      <th>CRNT_PROG_DVSN</th>\n",
       "      <th>...</th>\n",
       "      <th>PMMI_DLNG_YN</th>\n",
       "      <th>SELF_CHAM</th>\n",
       "      <th>NON_PAY</th>\n",
       "      <th>TAMT_SFCA</th>\n",
       "      <th>PATT_CHRG_TOTA</th>\n",
       "      <th>DSCT_AMT</th>\n",
       "      <th>COUNT_TRMT_ITEM</th>\n",
       "      <th>DCAF_CMPS_XCPA</th>\n",
       "      <th>NON_PAY_RATIO</th>\n",
       "      <th>HEED_HOSP_YN</th>\n",
       "    </tr>\n",
       "  </thead>\n",
       "  <tbody>\n",
       "    <tr>\n",
       "      <th>119015</th>\n",
       "      <td>15545</td>\n",
       "      <td>48830</td>\n",
       "      <td>3.사무직</td>\n",
       "      <td>사무직</td>\n",
       "      <td>Y</td>\n",
       "      <td>2.215030e+12</td>\n",
       "      <td>20150303</td>\n",
       "      <td>20140919</td>\n",
       "      <td>20150123</td>\n",
       "      <td>23</td>\n",
       "      <td>...</td>\n",
       "      <td>Y</td>\n",
       "      <td>103350.0</td>\n",
       "      <td>227700.0</td>\n",
       "      <td>0.0</td>\n",
       "      <td>331050.0</td>\n",
       "      <td>0.0</td>\n",
       "      <td>1.0</td>\n",
       "      <td>NaN</td>\n",
       "      <td>1</td>\n",
       "      <td>N</td>\n",
       "    </tr>\n",
       "    <tr>\n",
       "      <th>119016</th>\n",
       "      <td>15489</td>\n",
       "      <td>110348</td>\n",
       "      <td>NaN</td>\n",
       "      <td>NaN</td>\n",
       "      <td>Y</td>\n",
       "      <td>2.215050e+12</td>\n",
       "      <td>20150513</td>\n",
       "      <td>20150427</td>\n",
       "      <td>20150427</td>\n",
       "      <td>23</td>\n",
       "      <td>...</td>\n",
       "      <td>Y</td>\n",
       "      <td>28521.0</td>\n",
       "      <td>23000.0</td>\n",
       "      <td>0.0</td>\n",
       "      <td>51521.0</td>\n",
       "      <td>21.0</td>\n",
       "      <td>1.0</td>\n",
       "      <td>22000.0</td>\n",
       "      <td>0</td>\n",
       "      <td>N</td>\n",
       "    </tr>\n",
       "    <tr>\n",
       "      <th>119017</th>\n",
       "      <td>6864</td>\n",
       "      <td>110453</td>\n",
       "      <td>NaN</td>\n",
       "      <td>NaN</td>\n",
       "      <td>Y</td>\n",
       "      <td>2.215060e+12</td>\n",
       "      <td>20150618</td>\n",
       "      <td>20150604</td>\n",
       "      <td>20150604</td>\n",
       "      <td>23</td>\n",
       "      <td>...</td>\n",
       "      <td>Y</td>\n",
       "      <td>139854.0</td>\n",
       "      <td>1616000.0</td>\n",
       "      <td>0.0</td>\n",
       "      <td>1755854.0</td>\n",
       "      <td>54.0</td>\n",
       "      <td>1.0</td>\n",
       "      <td>10000.0</td>\n",
       "      <td>1</td>\n",
       "      <td>N</td>\n",
       "    </tr>\n",
       "    <tr>\n",
       "      <th>119018</th>\n",
       "      <td>15545</td>\n",
       "      <td>48830</td>\n",
       "      <td>3.사무직</td>\n",
       "      <td>사무직</td>\n",
       "      <td>Y</td>\n",
       "      <td>2.215060e+12</td>\n",
       "      <td>20150618</td>\n",
       "      <td>20140919</td>\n",
       "      <td>20150523</td>\n",
       "      <td>23</td>\n",
       "      <td>...</td>\n",
       "      <td>Y</td>\n",
       "      <td>39100.0</td>\n",
       "      <td>93000.0</td>\n",
       "      <td>0.0</td>\n",
       "      <td>132100.0</td>\n",
       "      <td>0.0</td>\n",
       "      <td>1.0</td>\n",
       "      <td>43000.0</td>\n",
       "      <td>1</td>\n",
       "      <td>N</td>\n",
       "    </tr>\n",
       "    <tr>\n",
       "      <th>119019</th>\n",
       "      <td>21542</td>\n",
       "      <td>34676</td>\n",
       "      <td>8.기타</td>\n",
       "      <td>학생</td>\n",
       "      <td>N</td>\n",
       "      <td>2.215060e+12</td>\n",
       "      <td>20150630</td>\n",
       "      <td>20150506</td>\n",
       "      <td>20150506</td>\n",
       "      <td>23</td>\n",
       "      <td>...</td>\n",
       "      <td>Y</td>\n",
       "      <td>44003.0</td>\n",
       "      <td>1054241.0</td>\n",
       "      <td>0.0</td>\n",
       "      <td>1098244.0</td>\n",
       "      <td>4.0</td>\n",
       "      <td>1.0</td>\n",
       "      <td>3000.0</td>\n",
       "      <td>1</td>\n",
       "      <td>N</td>\n",
       "    </tr>\n",
       "  </tbody>\n",
       "</table>\n",
       "<p>5 rows × 39 columns</p>\n",
       "</div>"
      ],
      "text/plain": [
       "        CUST_ID  POLY_NO ACCI_OCCP_GRP1 ACCI_OCCP_GRP2 CHANG_FP_YN  \\\n",
       "119015    15545    48830          3.사무직            사무직           Y   \n",
       "119016    15489   110348            NaN            NaN           Y   \n",
       "119017     6864   110453            NaN            NaN           Y   \n",
       "119018    15545    48830          3.사무직            사무직           Y   \n",
       "119019    21542    34676           8.기타             학생           N   \n",
       "\n",
       "        CNTT_RECP_SQNO  RECP_DATE  ORIG_RESN_DATE  RESN_DATE  CRNT_PROG_DVSN  \\\n",
       "119015    2.215030e+12   20150303        20140919   20150123              23   \n",
       "119016    2.215050e+12   20150513        20150427   20150427              23   \n",
       "119017    2.215060e+12   20150618        20150604   20150604              23   \n",
       "119018    2.215060e+12   20150618        20140919   20150523              23   \n",
       "119019    2.215060e+12   20150630        20150506   20150506              23   \n",
       "\n",
       "        ...  PMMI_DLNG_YN SELF_CHAM    NON_PAY TAMT_SFCA  PATT_CHRG_TOTA  \\\n",
       "119015  ...             Y  103350.0   227700.0       0.0        331050.0   \n",
       "119016  ...             Y   28521.0    23000.0       0.0         51521.0   \n",
       "119017  ...             Y  139854.0  1616000.0       0.0       1755854.0   \n",
       "119018  ...             Y   39100.0    93000.0       0.0        132100.0   \n",
       "119019  ...             Y   44003.0  1054241.0       0.0       1098244.0   \n",
       "\n",
       "        DSCT_AMT  COUNT_TRMT_ITEM  DCAF_CMPS_XCPA NON_PAY_RATIO HEED_HOSP_YN  \n",
       "119015       0.0              1.0             NaN             1            N  \n",
       "119016      21.0              1.0         22000.0             0            N  \n",
       "119017      54.0              1.0         10000.0             1            N  \n",
       "119018       0.0              1.0         43000.0             1            N  \n",
       "119019       4.0              1.0          3000.0             1            N  \n",
       "\n",
       "[5 rows x 39 columns]"
      ]
     },
     "execution_count": 24,
     "metadata": {},
     "output_type": "execute_result"
    }
   ],
   "source": [
    "CLAIM = pd.read_csv('./dataset/real_insurance_data/BGCON_CLAIM_DATA_2.csv',delimiter = None,encoding='utf-8')\n",
    "\n",
    "print(CLAIM.shape)\n",
    "print(CLAIM.info(memory_usage='deep'))\n",
    "print(CLAIM.isnull().sum())\n",
    "CLAIM.tail(5)"
   ]
  },
  {
   "cell_type": "markdown",
   "id": "c4e5f614-31ff-4498-a45c-ddf60f8189ac",
   "metadata": {},
   "source": [
    "##### ACCI_OCCP_GRP1(직업그룹코드1)와 ACCI_OCCP_GRP2(직업그룹코드2)컬럼의 null값은 해당컬럼을 groupby하여 가장 많은 빈도수를 가지는 그룹코드로 맵핑 "
   ]
  },
  {
   "cell_type": "code",
   "execution_count": 25,
   "id": "3dd138e5-7844-439d-a5bf-ae9e4f8e8c02",
   "metadata": {},
   "outputs": [
    {
     "name": "stdout",
     "output_type": "stream",
     "text": [
      "ACCI_OCCP_GRP1 의 None값  1.1900000000000002 %\n",
      "ACCI_OCCP_GRP2 의 None값  1.1900000000000002 %\n"
     ]
    }
   ],
   "source": [
    "None_percentage(CLAIM,'ACCI_OCCP_GRP1')\n",
    "None_percentage(CLAIM,'ACCI_OCCP_GRP2')\n",
    "\n",
    "num = np.argmax(CLAIM.loc[CLAIM['ACCI_OCCP_GRP1'].notnull()]['CUST_ID'].groupby(CLAIM['ACCI_OCCP_GRP1']).count())\n",
    "target = CLAIM.loc[CLAIM['ACCI_OCCP_GRP1'].notnull()]['CUST_ID'].groupby(CLAIM['ACCI_OCCP_GRP1']).count().index[num]\n",
    "CLAIM.loc[CLAIM['ACCI_OCCP_GRP1'].isnull(),'ACCI_OCCP_GRP1'] = target\n",
    "\n",
    "\n",
    "num = np.argmax(CLAIM.loc[CLAIM['ACCI_OCCP_GRP2'].notnull()]['CUST_ID'].groupby(CLAIM['ACCI_OCCP_GRP2']).count())\n",
    "target = CLAIM.loc[CLAIM['ACCI_OCCP_GRP2'].notnull()]['CUST_ID'].groupby(CLAIM['ACCI_OCCP_GRP2']).count().index[num]\n",
    "CLAIM.loc[CLAIM['ACCI_OCCP_GRP2'].isnull(),'ACCI_OCCP_GRP2'] = target"
   ]
  },
  {
   "cell_type": "markdown",
   "id": "42e284f2-fa11-441b-89fe-c2535ea0032b",
   "metadata": {},
   "source": [
    "##### RECP_DATE(사고접수일자), ORIG_RESN_DATE(원사유일자), RESN_DATE(사유일자)컬럼의 data type을 float에서 datetime으로 변경"
   ]
  },
  {
   "cell_type": "code",
   "execution_count": 26,
   "id": "3d91a4ae-96e5-4f85-9f34-7df149b6c359",
   "metadata": {},
   "outputs": [],
   "source": [
    "CLAIM['RECP_DATE'] = pd.to_datetime(CLAIM['RECP_DATE'],format='%Y%m%d')\n",
    "\n",
    "CLAIM['ORIG_RESN_DATE'] = pd.to_datetime(CLAIM['ORIG_RESN_DATE'],format='%Y%m%d')\n",
    "\n",
    "CLAIM['RESN_DATE'] = pd.to_datetime(CLAIM['RESN_DATE'],format='%Y%m%d')"
   ]
  },
  {
   "cell_type": "markdown",
   "id": "8b75a77b-42da-4b7f-9cd9-0e8955301d7c",
   "metadata": {},
   "source": [
    "##### HOSP_OTPA_STDT(입원/통원시작일자)와 HOSP_OTPA_ENDT(입원/통원종료일자)컬럼은 중요한 컬럼으로 보이지만 null값의 비중이 크고 null값에 대한 별도의 기준이 없으므로 삭제 "
   ]
  },
  {
   "cell_type": "code",
   "execution_count": 27,
   "id": "0f0467ee-2ae8-4466-9bf0-f85e09d13468",
   "metadata": {},
   "outputs": [
    {
     "name": "stdout",
     "output_type": "stream",
     "text": [
      "HOSP_OTPA_STDT 의 None값  27.37 %\n",
      "HOSP_OTPA_ENDT 의 None값  27.37 %\n"
     ]
    }
   ],
   "source": [
    "None_percentage(CLAIM,'HOSP_OTPA_STDT')\n",
    "None_percentage(CLAIM,'HOSP_OTPA_ENDT')\n",
    "\n",
    "CLAIM.drop(['HOSP_OTPA_STDT','HOSP_OTPA_ENDT'], axis=1, inplace=True)"
   ]
  },
  {
   "cell_type": "markdown",
   "id": "c1dc9ba1-a596-4bf5-b99a-a6636b99310a",
   "metadata": {},
   "source": [
    "##### HOUSE_HOSP_DIST(고객병원거리)컬럼의 null값은 중앙값으로 변경"
   ]
  },
  {
   "cell_type": "code",
   "execution_count": 28,
   "id": "15f4dc96-e849-4924-a410-2a6dcd36e3c1",
   "metadata": {},
   "outputs": [
    {
     "name": "stdout",
     "output_type": "stream",
     "text": [
      "count    101972.000000\n",
      "mean         24.920284\n",
      "std          58.942734\n",
      "min           0.000000\n",
      "25%           1.620000\n",
      "50%           4.540000\n",
      "75%          15.330000\n",
      "max         528.620000\n",
      "Name: HOUSE_HOSP_DIST, dtype: float64\n",
      "HOUSE_HOSP_DIST 의 None값  14.32 %\n"
     ]
    }
   ],
   "source": [
    "print(CLAIM['HOUSE_HOSP_DIST'].describe())\n",
    "\n",
    "None_percentage(CLAIM,'HOUSE_HOSP_DIST')\n",
    "\n",
    "CLAIM.loc[CLAIM['HOUSE_HOSP_DIST'].isnull(),'HOUSE_HOSP_DIST'] = CLAIM.loc[CLAIM['HOUSE_HOSP_DIST'].notnull()]['HOUSE_HOSP_DIST'].median()"
   ]
  },
  {
   "cell_type": "markdown",
   "id": "c6baf22a-4352-4a89-bf7f-73a08bff091a",
   "metadata": {},
   "source": [
    "##### HOSP_CODE(병원코드)컬럼의 null값은 병원지역도 null값이므로 특정할수 없어 삭제"
   ]
  },
  {
   "cell_type": "code",
   "execution_count": 29,
   "id": "579b0bd8-c1bb-4fd6-8e70-596c9f8175ca",
   "metadata": {},
   "outputs": [
    {
     "name": "stdout",
     "output_type": "stream",
     "text": [
      "HOSP_CODE 의 None값  0.01 %\n"
     ]
    }
   ],
   "source": [
    "None_percentage(CLAIM,'HOSP_CODE')\n",
    "\n",
    "CLAIM = CLAIM.loc[CLAIM['HOSP_CODE'].notnull()]"
   ]
  },
  {
   "cell_type": "markdown",
   "id": "aaaf0ef2-104f-4505-a9be-7fe0d0b76b55",
   "metadata": {},
   "source": [
    "##### ACCI_HOSP_ADDR(병원지역(시도))컬럼의 null값은 '모름'으로 변경"
   ]
  },
  {
   "cell_type": "code",
   "execution_count": 30,
   "id": "6e406146-30b5-4106-9bc0-566030cb3b4e",
   "metadata": {},
   "outputs": [
    {
     "name": "stdout",
     "output_type": "stream",
     "text": [
      "ACCI_HOSP_ADDR 의 None값  8.450000000000001 %\n"
     ]
    }
   ],
   "source": [
    "None_percentage(CLAIM,'ACCI_HOSP_ADDR')\n",
    "\n",
    "CLAIM.loc[CLAIM['ACCI_HOSP_ADDR'].isnull(),'ACCI_HOSP_ADDR'] = '모름'"
   ]
  },
  {
   "cell_type": "markdown",
   "id": "2c013f4d-db2d-4a4a-9997-ab9a77610059",
   "metadata": {},
   "source": [
    "##### PAYM_DATE(보험금 지급일자)컬럼의 null값은 삭제 & date type을 float에서 datetime으로 변경"
   ]
  },
  {
   "cell_type": "code",
   "execution_count": 31,
   "id": "e4262935-6845-4899-a5b2-5c208fe5a451",
   "metadata": {},
   "outputs": [
    {
     "name": "stdout",
     "output_type": "stream",
     "text": [
      "PAYM_DATE 의 None값  0.01 %\n"
     ]
    }
   ],
   "source": [
    "None_percentage(CLAIM,'PAYM_DATE')\n",
    "\n",
    "CLAIM = CLAIM.loc[CLAIM['PAYM_DATE'].notnull()]\n",
    "\n",
    "CLAIM['PAYM_DATE'] = pd.to_datetime(CLAIM['PAYM_DATE'],format='%Y%m%d')"
   ]
  },
  {
   "cell_type": "markdown",
   "id": "53975172-65a9-4eba-8dfe-a2630c5041bd",
   "metadata": {},
   "source": [
    "##### null값이 많은 컬럼 삭제(급여, 비급여, 잔료과목개수 등의 데이터)"
   ]
  },
  {
   "cell_type": "code",
   "execution_count": 32,
   "id": "78618195-b0c2-49ca-9aa7-cc23f97d022b",
   "metadata": {},
   "outputs": [
    {
     "name": "stdout",
     "output_type": "stream",
     "text": [
      "SELF_CHAM 의 None값  84.07 %\n",
      "NON_PAY 의 None값  84.07 %\n",
      "TAMT_SFCA 의 None값  84.07 %\n",
      "PATT_CHRG_TOTA 의 None값  84.07 %\n",
      "DSCT_AMT 의 None값  84.07 %\n",
      "COUNT_TRMT_ITEM 의 None값  84.07 %\n",
      "DCAF_CMPS_XCPA 의 None값  93.24 %\n"
     ]
    }
   ],
   "source": [
    "None_percentage(CLAIM,'SELF_CHAM')\n",
    "None_percentage(CLAIM,'NON_PAY')\n",
    "None_percentage(CLAIM,'TAMT_SFCA')\n",
    "None_percentage(CLAIM,'PATT_CHRG_TOTA')\n",
    "None_percentage(CLAIM,'DSCT_AMT')\n",
    "None_percentage(CLAIM,'COUNT_TRMT_ITEM')\n",
    "None_percentage(CLAIM,'DCAF_CMPS_XCPA')\n",
    "\n",
    "CLAIM.drop(['SELF_CHAM','NON_PAY','TAMT_SFCA','PATT_CHRG_TOTA','DSCT_AMT','COUNT_TRMT_ITEM','DCAF_CMPS_XCPA'], axis=1, inplace=True)"
   ]
  },
  {
   "cell_type": "code",
   "execution_count": 33,
   "id": "9ea33bc8-420f-4740-b723-1d3f012842ea",
   "metadata": {
    "scrolled": true,
    "tags": []
   },
   "outputs": [
    {
     "name": "stdout",
     "output_type": "stream",
     "text": [
      "<class 'pandas.core.frame.DataFrame'>\n",
      "Int64Index: 118998 entries, 0 to 119019\n",
      "Data columns (total 30 columns):\n",
      " #   Column           Non-Null Count   Dtype         \n",
      "---  ------           --------------   -----         \n",
      " 0   CUST_ID          118998 non-null  int64         \n",
      " 1   POLY_NO          118998 non-null  int64         \n",
      " 2   ACCI_OCCP_GRP1   118998 non-null  object        \n",
      " 3   ACCI_OCCP_GRP2   118998 non-null  object        \n",
      " 4   CHANG_FP_YN      118998 non-null  object        \n",
      " 5   CNTT_RECP_SQNO   118998 non-null  float64       \n",
      " 6   RECP_DATE        118998 non-null  datetime64[ns]\n",
      " 7   ORIG_RESN_DATE   118998 non-null  datetime64[ns]\n",
      " 8   RESN_DATE        118998 non-null  datetime64[ns]\n",
      " 9   CRNT_PROG_DVSN   118998 non-null  int64         \n",
      " 10  ACCI_DVSN        118998 non-null  int64         \n",
      " 11  CAUS_CODE        118998 non-null  object        \n",
      " 12  CAUS_CODE_DTAL   118998 non-null  object        \n",
      " 13  DSAS_NAME        118998 non-null  object        \n",
      " 14  DMND_RESN_CODE   118998 non-null  int64         \n",
      " 15  DMND_RSCD_SQNO   118998 non-null  int64         \n",
      " 16  RESL_CD1         118998 non-null  object        \n",
      " 17  RESL_NM1         118998 non-null  object        \n",
      " 18  VLID_HOSP_OTDA   118998 non-null  int64         \n",
      " 19  HOUSE_HOSP_DIST  118998 non-null  float64       \n",
      " 20  HOSP_CODE        118998 non-null  float64       \n",
      " 21  ACCI_HOSP_ADDR   118998 non-null  object        \n",
      " 22  HOSP_SPEC_DVSN   118998 non-null  float64       \n",
      " 23  CHME_LICE_NO     118998 non-null  int64         \n",
      " 24  PAYM_DATE        118998 non-null  datetime64[ns]\n",
      " 25  DMND_AMT         118998 non-null  int64         \n",
      " 26  PAYM_AMT         118998 non-null  int64         \n",
      " 27  PMMI_DLNG_YN     118998 non-null  object        \n",
      " 28  NON_PAY_RATIO    118998 non-null  int64         \n",
      " 29  HEED_HOSP_YN     118998 non-null  object        \n",
      "dtypes: datetime64[ns](4), float64(4), int64(11), object(11)\n",
      "memory usage: 28.1+ MB\n"
     ]
    }
   ],
   "source": [
    "CLAIM.info()"
   ]
  },
  {
   "cell_type": "markdown",
   "id": "8e0ff6c8-0548-4526-b092-aa41d42545ac",
   "metadata": {},
   "source": [
    "##### 범주형 데이터인데 숫자형으로 되어있을 경우 변경해줌"
   ]
  },
  {
   "cell_type": "code",
   "execution_count": 34,
   "id": "d67b12da-910a-4a26-9379-98cfe181eee2",
   "metadata": {},
   "outputs": [],
   "source": [
    "CLAIM = CLAIM.astype({'CRNT_PROG_DVSN':str\n",
    "                     ,'ACCI_DVSN' : str\n",
    "                     ,'DMND_RESN_CODE' : str\n",
    "                      ,'DMND_RSCD_SQNO' : str\n",
    "                     ,'HOSP_SPEC_DVSN':str\n",
    "                     ,'HOSP_CODE' : str\n",
    "                     ,'CHME_LICE_NO' : str})"
   ]
  },
  {
   "cell_type": "code",
   "execution_count": 35,
   "id": "444dc9d8-abf5-4999-af40-b331617e0be6",
   "metadata": {},
   "outputs": [
    {
     "data": {
      "text/plain": [
       "CUST_ID            0\n",
       "POLY_NO            0\n",
       "ACCI_OCCP_GRP1     0\n",
       "ACCI_OCCP_GRP2     0\n",
       "CHANG_FP_YN        0\n",
       "CNTT_RECP_SQNO     0\n",
       "RECP_DATE          0\n",
       "ORIG_RESN_DATE     0\n",
       "RESN_DATE          0\n",
       "CRNT_PROG_DVSN     0\n",
       "ACCI_DVSN          0\n",
       "CAUS_CODE          0\n",
       "CAUS_CODE_DTAL     0\n",
       "DSAS_NAME          0\n",
       "DMND_RESN_CODE     0\n",
       "DMND_RSCD_SQNO     0\n",
       "RESL_CD1           0\n",
       "RESL_NM1           0\n",
       "VLID_HOSP_OTDA     0\n",
       "HOUSE_HOSP_DIST    0\n",
       "HOSP_CODE          0\n",
       "ACCI_HOSP_ADDR     0\n",
       "HOSP_SPEC_DVSN     0\n",
       "CHME_LICE_NO       0\n",
       "PAYM_DATE          0\n",
       "DMND_AMT           0\n",
       "PAYM_AMT           0\n",
       "PMMI_DLNG_YN       0\n",
       "NON_PAY_RATIO      0\n",
       "HEED_HOSP_YN       0\n",
       "dtype: int64"
      ]
     },
     "execution_count": 35,
     "metadata": {},
     "output_type": "execute_result"
    }
   ],
   "source": [
    "CLAIM.isnull().sum()"
   ]
  },
  {
   "cell_type": "code",
   "execution_count": 36,
   "id": "0d20f5ba-c88a-4e9f-bda2-8f9b341f1956",
   "metadata": {},
   "outputs": [],
   "source": [
    "# target_cnt =  CUST.groupby(['CUST_ID'])['CUST_ID'].count().values\n",
    "\n",
    "# for i in range(0,len(target_cnt)):\n",
    "#     if CUST.groupby(['CUST_ID'])['CUST_ID'].count().values[i] > 1:\n",
    "#         print(\"중복\")"
   ]
  },
  {
   "cell_type": "markdown",
   "id": "79a61f07-9b17-4dbb-a8db-6a9bc6eae74e",
   "metadata": {},
   "source": [
    "# 1 - 3계약 속성 데이터 전처리"
   ]
  },
  {
   "cell_type": "code",
   "execution_count": 37,
   "id": "3b333c2a-0d6d-496f-8be7-421277221f55",
   "metadata": {
    "scrolled": true,
    "tags": []
   },
   "outputs": [
    {
     "name": "stdout",
     "output_type": "stream",
     "text": [
      "(113010, 21)\n",
      "POLY_NO             int64\n",
      "CUST_ID             int64\n",
      "CUST_ROLE           int64\n",
      "IRKD_CODE_DTAL      int64\n",
      "IRKD_CODE_ITEM      int64\n",
      "GOOD_CLSF_CDNM     object\n",
      "CNTT_YM             int64\n",
      "CLLT_FP_PRNO      float64\n",
      "REAL_PAYM_TERM      int64\n",
      "SALE_CHNL_CODE      int64\n",
      "CNTT_STAT_CODE     object\n",
      "EXPR_YM           float64\n",
      "EXTN_YM           float64\n",
      "LAPS_YM           float64\n",
      "PAYM_CYCL_CODE    float64\n",
      "MAIN_INSR_AMT     float64\n",
      "SUM_ORIG_PREM     float64\n",
      "RECP_PUBL         float64\n",
      "CNTT_RECP         float64\n",
      "MNTH_INCM_AMT     float64\n",
      "DISTANCE          float64\n",
      "dtype: object\n",
      "POLY_NO               0\n",
      "CUST_ID               0\n",
      "CUST_ROLE             0\n",
      "IRKD_CODE_DTAL        0\n",
      "IRKD_CODE_ITEM        0\n",
      "GOOD_CLSF_CDNM        0\n",
      "CNTT_YM               0\n",
      "CLLT_FP_PRNO         82\n",
      "REAL_PAYM_TERM        0\n",
      "SALE_CHNL_CODE        0\n",
      "CNTT_STAT_CODE       82\n",
      "EXPR_YM              82\n",
      "EXTN_YM           54217\n",
      "LAPS_YM           91629\n",
      "PAYM_CYCL_CODE       82\n",
      "MAIN_INSR_AMT        82\n",
      "SUM_ORIG_PREM        82\n",
      "RECP_PUBL            84\n",
      "CNTT_RECP            84\n",
      "MNTH_INCM_AMT        82\n",
      "DISTANCE          10556\n",
      "dtype: int64\n"
     ]
    },
    {
     "data": {
      "text/html": [
       "<div>\n",
       "<style scoped>\n",
       "    .dataframe tbody tr th:only-of-type {\n",
       "        vertical-align: middle;\n",
       "    }\n",
       "\n",
       "    .dataframe tbody tr th {\n",
       "        vertical-align: top;\n",
       "    }\n",
       "\n",
       "    .dataframe thead th {\n",
       "        text-align: right;\n",
       "    }\n",
       "</style>\n",
       "<table border=\"1\" class=\"dataframe\">\n",
       "  <thead>\n",
       "    <tr style=\"text-align: right;\">\n",
       "      <th></th>\n",
       "      <th>POLY_NO</th>\n",
       "      <th>CUST_ID</th>\n",
       "      <th>CUST_ROLE</th>\n",
       "      <th>IRKD_CODE_DTAL</th>\n",
       "      <th>IRKD_CODE_ITEM</th>\n",
       "      <th>GOOD_CLSF_CDNM</th>\n",
       "      <th>CNTT_YM</th>\n",
       "      <th>CLLT_FP_PRNO</th>\n",
       "      <th>REAL_PAYM_TERM</th>\n",
       "      <th>SALE_CHNL_CODE</th>\n",
       "      <th>...</th>\n",
       "      <th>EXPR_YM</th>\n",
       "      <th>EXTN_YM</th>\n",
       "      <th>LAPS_YM</th>\n",
       "      <th>PAYM_CYCL_CODE</th>\n",
       "      <th>MAIN_INSR_AMT</th>\n",
       "      <th>SUM_ORIG_PREM</th>\n",
       "      <th>RECP_PUBL</th>\n",
       "      <th>CNTT_RECP</th>\n",
       "      <th>MNTH_INCM_AMT</th>\n",
       "      <th>DISTANCE</th>\n",
       "    </tr>\n",
       "  </thead>\n",
       "  <tbody>\n",
       "    <tr>\n",
       "      <th>113005</th>\n",
       "      <td>112765</td>\n",
       "      <td>12297</td>\n",
       "      <td>1</td>\n",
       "      <td>1267</td>\n",
       "      <td>1</td>\n",
       "      <td>보장</td>\n",
       "      <td>200204</td>\n",
       "      <td>4033.0</td>\n",
       "      <td>10</td>\n",
       "      <td>2</td>\n",
       "      <td>...</td>\n",
       "      <td>201204.0</td>\n",
       "      <td>200205.0</td>\n",
       "      <td>NaN</td>\n",
       "      <td>1.0</td>\n",
       "      <td>10000000.0</td>\n",
       "      <td>33600.0</td>\n",
       "      <td>0.0</td>\n",
       "      <td>0.0</td>\n",
       "      <td>0.0</td>\n",
       "      <td>3.0</td>\n",
       "    </tr>\n",
       "    <tr>\n",
       "      <th>113006</th>\n",
       "      <td>112766</td>\n",
       "      <td>9296</td>\n",
       "      <td>1</td>\n",
       "      <td>1256</td>\n",
       "      <td>27</td>\n",
       "      <td>일반종신</td>\n",
       "      <td>200204</td>\n",
       "      <td>4023.0</td>\n",
       "      <td>20</td>\n",
       "      <td>2</td>\n",
       "      <td>...</td>\n",
       "      <td>999912.0</td>\n",
       "      <td>200602.0</td>\n",
       "      <td>200602.0</td>\n",
       "      <td>1.0</td>\n",
       "      <td>50000000.0</td>\n",
       "      <td>154250.0</td>\n",
       "      <td>0.0</td>\n",
       "      <td>0.0</td>\n",
       "      <td>0.0</td>\n",
       "      <td>8.0</td>\n",
       "    </tr>\n",
       "    <tr>\n",
       "      <th>113007</th>\n",
       "      <td>112767</td>\n",
       "      <td>20517</td>\n",
       "      <td>1</td>\n",
       "      <td>1267</td>\n",
       "      <td>1</td>\n",
       "      <td>보장</td>\n",
       "      <td>200204</td>\n",
       "      <td>4033.0</td>\n",
       "      <td>10</td>\n",
       "      <td>2</td>\n",
       "      <td>...</td>\n",
       "      <td>202204.0</td>\n",
       "      <td>NaN</td>\n",
       "      <td>NaN</td>\n",
       "      <td>1.0</td>\n",
       "      <td>10000000.0</td>\n",
       "      <td>90100.0</td>\n",
       "      <td>0.0</td>\n",
       "      <td>0.0</td>\n",
       "      <td>0.0</td>\n",
       "      <td>7.0</td>\n",
       "    </tr>\n",
       "    <tr>\n",
       "      <th>113008</th>\n",
       "      <td>112768</td>\n",
       "      <td>1316</td>\n",
       "      <td>1</td>\n",
       "      <td>1228</td>\n",
       "      <td>13</td>\n",
       "      <td>일반연금</td>\n",
       "      <td>200204</td>\n",
       "      <td>2309.0</td>\n",
       "      <td>10</td>\n",
       "      <td>2</td>\n",
       "      <td>...</td>\n",
       "      <td>999912.0</td>\n",
       "      <td>200812.0</td>\n",
       "      <td>200508.0</td>\n",
       "      <td>1.0</td>\n",
       "      <td>2461560.0</td>\n",
       "      <td>20513.0</td>\n",
       "      <td>0.0</td>\n",
       "      <td>0.0</td>\n",
       "      <td>0.0</td>\n",
       "      <td>NaN</td>\n",
       "    </tr>\n",
       "    <tr>\n",
       "      <th>113009</th>\n",
       "      <td>112769</td>\n",
       "      <td>20760</td>\n",
       "      <td>1</td>\n",
       "      <td>1259</td>\n",
       "      <td>19</td>\n",
       "      <td>보장</td>\n",
       "      <td>200204</td>\n",
       "      <td>2217.0</td>\n",
       "      <td>10</td>\n",
       "      <td>2</td>\n",
       "      <td>...</td>\n",
       "      <td>203104.0</td>\n",
       "      <td>NaN</td>\n",
       "      <td>NaN</td>\n",
       "      <td>1.0</td>\n",
       "      <td>10000000.0</td>\n",
       "      <td>52000.0</td>\n",
       "      <td>0.0</td>\n",
       "      <td>0.0</td>\n",
       "      <td>0.0</td>\n",
       "      <td>0.0</td>\n",
       "    </tr>\n",
       "  </tbody>\n",
       "</table>\n",
       "<p>5 rows × 21 columns</p>\n",
       "</div>"
      ],
      "text/plain": [
       "        POLY_NO  CUST_ID  CUST_ROLE  IRKD_CODE_DTAL  IRKD_CODE_ITEM  \\\n",
       "113005   112765    12297          1            1267               1   \n",
       "113006   112766     9296          1            1256              27   \n",
       "113007   112767    20517          1            1267               1   \n",
       "113008   112768     1316          1            1228              13   \n",
       "113009   112769    20760          1            1259              19   \n",
       "\n",
       "       GOOD_CLSF_CDNM  CNTT_YM  CLLT_FP_PRNO  REAL_PAYM_TERM  SALE_CHNL_CODE  \\\n",
       "113005             보장   200204        4033.0              10               2   \n",
       "113006           일반종신   200204        4023.0              20               2   \n",
       "113007             보장   200204        4033.0              10               2   \n",
       "113008           일반연금   200204        2309.0              10               2   \n",
       "113009             보장   200204        2217.0              10               2   \n",
       "\n",
       "        ...   EXPR_YM   EXTN_YM   LAPS_YM  PAYM_CYCL_CODE  MAIN_INSR_AMT  \\\n",
       "113005  ...  201204.0  200205.0       NaN             1.0     10000000.0   \n",
       "113006  ...  999912.0  200602.0  200602.0             1.0     50000000.0   \n",
       "113007  ...  202204.0       NaN       NaN             1.0     10000000.0   \n",
       "113008  ...  999912.0  200812.0  200508.0             1.0      2461560.0   \n",
       "113009  ...  203104.0       NaN       NaN             1.0     10000000.0   \n",
       "\n",
       "        SUM_ORIG_PREM  RECP_PUBL  CNTT_RECP  MNTH_INCM_AMT  DISTANCE  \n",
       "113005        33600.0        0.0        0.0            0.0       3.0  \n",
       "113006       154250.0        0.0        0.0            0.0       8.0  \n",
       "113007        90100.0        0.0        0.0            0.0       7.0  \n",
       "113008        20513.0        0.0        0.0            0.0       NaN  \n",
       "113009        52000.0        0.0        0.0            0.0       0.0  \n",
       "\n",
       "[5 rows x 21 columns]"
      ]
     },
     "execution_count": 37,
     "metadata": {},
     "output_type": "execute_result"
    }
   ],
   "source": [
    "CNTT = pd.read_csv('./dataset/real_insurance_data/BGCON_CNTT_DATA_2.csv',delimiter = None,encoding='utf-8')\n",
    "\n",
    "print(CNTT.shape)\n",
    "print(CNTT.dtypes)\n",
    "print(CNTT.isnull().sum())\n",
    "CNTT.tail(5)"
   ]
  },
  {
   "cell_type": "markdown",
   "id": "7c3da736-517e-4e83-b299-d820037d9575",
   "metadata": {},
   "source": [
    "##### CLLT_FP_PRNO(FP사번)컬럼의 null값 삭제 : FP의 정보와 관련된 컬럼에서 null값이 함께 제거됨\n",
    "##### CNTT_STAT_CODE(계약상태코드), EXPR_YM(만기년월), PAYM_CYCL_CODE(납입주기코드), MAIN_INSR_AMT(주보험금)             \n",
    "##### SUM_ORIG_PREM(합계보험료), RECP_PUBL(청약서 접수소요일), CNTT_RECP(청약서 계약소요일), MNTH_INCM_AMT(청약서 소득)"
   ]
  },
  {
   "cell_type": "code",
   "execution_count": 38,
   "id": "2232d57e-b574-4403-8e6f-e76b328d9096",
   "metadata": {},
   "outputs": [
    {
     "name": "stdout",
     "output_type": "stream",
     "text": [
      "CLLT_FP_PRNO 의 None값  0.06999999999999999 %\n"
     ]
    }
   ],
   "source": [
    "None_percentage(CNTT,'CLLT_FP_PRNO')\n",
    "\n",
    "CNTT = CNTT.loc[CNTT['CLLT_FP_PRNO'].notnull()]\n",
    "CNTT = CNTT.loc[CNTT['RECP_PUBL'].notnull()]"
   ]
  },
  {
   "cell_type": "markdown",
   "id": "42a2efdb-46cc-458e-9371-9ce803d13a4e",
   "metadata": {},
   "source": [
    "##### EXPR_YM(만기년월)컬럼의 999912는 datetime으로 변경이 어려워 임의의 날짜 210012로 변경\n",
    "##### EXTN_YM(소멸년월)컬럼의 null값은 소멸한 적이 없는 보험이므로 임의의 날짜 210012로 맵핑\n",
    "##### LAPS_YM(실효년월)컬럼의 null값은 실효된 적이 없는 보험이므로 임의의 날짜 210012로 맵핑"
   ]
  },
  {
   "cell_type": "code",
   "execution_count": 39,
   "id": "3f777f6e-6b6f-498e-bd1a-a95b1b94b372",
   "metadata": {},
   "outputs": [],
   "source": [
    "CNTT.loc[CNTT['EXPR_YM']==999912,'EXPR_YM']= 210012\n",
    "\n",
    "CNTT.loc[CNTT['EXTN_YM'].isnull(),'EXTN_YM'] = 210012\n",
    "\n",
    "CNTT.loc[CNTT['LAPS_YM'].isnull(),'LAPS_YM'] = 210012\n",
    "\n",
    "CNTT['CNTT_YM'] = pd.to_datetime(CNTT['CNTT_YM'],format='%Y%m')\n",
    "CNTT['EXPR_YM'] = pd.to_datetime(CNTT['EXPR_YM'],format='%Y%m')\n",
    "CNTT['EXTN_YM'] = pd.to_datetime(CNTT['EXTN_YM'],format='%Y%m')\n",
    "CNTT['LAPS_YM'] = pd.to_datetime(CNTT['LAPS_YM'],format='%Y%m')"
   ]
  },
  {
   "cell_type": "markdown",
   "id": "ad84aadb-3e75-48eb-ba46-a270fbc843e6",
   "metadata": {},
   "source": [
    "##### DISTANCE(FP와 고객의거리)컬럼의 null값은 중앙값으로 대체"
   ]
  },
  {
   "cell_type": "code",
   "execution_count": 40,
   "id": "3f376415-aa47-4b48-80f2-45f1d28f8c90",
   "metadata": {},
   "outputs": [
    {
     "name": "stdout",
     "output_type": "stream",
     "text": [
      "count    102452.000000\n",
      "mean         37.127728\n",
      "std          75.855672\n",
      "min           0.000000\n",
      "25%           1.000000\n",
      "50%           7.000000\n",
      "75%          26.000000\n",
      "max         747.000000\n",
      "Name: DISTANCE, dtype: float64\n",
      "DISTANCE 의 None값  9.28 %\n"
     ]
    }
   ],
   "source": [
    "print(CNTT['DISTANCE'].describe())\n",
    "\n",
    "None_percentage(CNTT,'DISTANCE')\n",
    "\n",
    "CNTT.loc[CNTT['DISTANCE'].isnull(),'DISTANCE'] = CNTT.loc[CNTT['DISTANCE'].notnull()]['DISTANCE'].median()"
   ]
  },
  {
   "cell_type": "code",
   "execution_count": 41,
   "id": "326d0da2-e9f0-4ffa-bb52-47c843ba9320",
   "metadata": {},
   "outputs": [
    {
     "name": "stdout",
     "output_type": "stream",
     "text": [
      "<class 'pandas.core.frame.DataFrame'>\n",
      "Int64Index: 112926 entries, 0 to 113009\n",
      "Data columns (total 21 columns):\n",
      " #   Column          Non-Null Count   Dtype         \n",
      "---  ------          --------------   -----         \n",
      " 0   POLY_NO         112926 non-null  int64         \n",
      " 1   CUST_ID         112926 non-null  int64         \n",
      " 2   CUST_ROLE       112926 non-null  int64         \n",
      " 3   IRKD_CODE_DTAL  112926 non-null  int64         \n",
      " 4   IRKD_CODE_ITEM  112926 non-null  int64         \n",
      " 5   GOOD_CLSF_CDNM  112926 non-null  object        \n",
      " 6   CNTT_YM         112926 non-null  datetime64[ns]\n",
      " 7   CLLT_FP_PRNO    112926 non-null  float64       \n",
      " 8   REAL_PAYM_TERM  112926 non-null  int64         \n",
      " 9   SALE_CHNL_CODE  112926 non-null  int64         \n",
      " 10  CNTT_STAT_CODE  112926 non-null  object        \n",
      " 11  EXPR_YM         112926 non-null  datetime64[ns]\n",
      " 12  EXTN_YM         112926 non-null  datetime64[ns]\n",
      " 13  LAPS_YM         112926 non-null  datetime64[ns]\n",
      " 14  PAYM_CYCL_CODE  112926 non-null  float64       \n",
      " 15  MAIN_INSR_AMT   112926 non-null  float64       \n",
      " 16  SUM_ORIG_PREM   112926 non-null  float64       \n",
      " 17  RECP_PUBL       112926 non-null  float64       \n",
      " 18  CNTT_RECP       112926 non-null  float64       \n",
      " 19  MNTH_INCM_AMT   112926 non-null  float64       \n",
      " 20  DISTANCE        112926 non-null  float64       \n",
      "dtypes: datetime64[ns](4), float64(8), int64(7), object(2)\n",
      "memory usage: 19.0+ MB\n"
     ]
    }
   ],
   "source": [
    "CNTT.info()"
   ]
  },
  {
   "cell_type": "markdown",
   "id": "8f16bc50-7ac3-4a54-9908-9b0f2aa6bbde",
   "metadata": {},
   "source": [
    "##### 범주형 데이터인데 숫자형으로 되어있을 경우 변경해줌"
   ]
  },
  {
   "cell_type": "code",
   "execution_count": 42,
   "id": "06727dfb-1f38-4443-8256-a156a05d55bd",
   "metadata": {},
   "outputs": [],
   "source": [
    "CNTT = CNTT.astype({'CUST_ROLE' : str\n",
    "                     ,'IRKD_CODE_DTAL' : str\n",
    "                     ,'IRKD_CODE_ITEM' : str\n",
    "                     ,'SALE_CHNL_CODE' : str\n",
    "                     ,'PAYM_CYCL_CODE' : str})"
   ]
  },
  {
   "cell_type": "code",
   "execution_count": 43,
   "id": "0bc69d69-b445-498a-9cdd-7a419fea1417",
   "metadata": {},
   "outputs": [
    {
     "data": {
      "text/plain": [
       "POLY_NO           0\n",
       "CUST_ID           0\n",
       "CUST_ROLE         0\n",
       "IRKD_CODE_DTAL    0\n",
       "IRKD_CODE_ITEM    0\n",
       "GOOD_CLSF_CDNM    0\n",
       "CNTT_YM           0\n",
       "CLLT_FP_PRNO      0\n",
       "REAL_PAYM_TERM    0\n",
       "SALE_CHNL_CODE    0\n",
       "CNTT_STAT_CODE    0\n",
       "EXPR_YM           0\n",
       "EXTN_YM           0\n",
       "LAPS_YM           0\n",
       "PAYM_CYCL_CODE    0\n",
       "MAIN_INSR_AMT     0\n",
       "SUM_ORIG_PREM     0\n",
       "RECP_PUBL         0\n",
       "CNTT_RECP         0\n",
       "MNTH_INCM_AMT     0\n",
       "DISTANCE          0\n",
       "dtype: int64"
      ]
     },
     "execution_count": 43,
     "metadata": {},
     "output_type": "execute_result"
    }
   ],
   "source": [
    "CNTT.isnull().sum()"
   ]
  },
  {
   "cell_type": "markdown",
   "id": "1932404e-7921-4411-96d3-be3c93a11d0e",
   "metadata": {},
   "source": [
    "# 1 - 4 설계사 정보 데이터 전처리"
   ]
  },
  {
   "cell_type": "code",
   "execution_count": 44,
   "id": "4a9f707a-243d-405f-ad95-f45199340d97",
   "metadata": {},
   "outputs": [
    {
     "name": "stdout",
     "output_type": "stream",
     "text": [
      "(31522, 7)\n",
      "CLLT_FP_PRNO      int64\n",
      "INCB_DVSN        object\n",
      "ETRS_YM         float64\n",
      "FIRE_YM         float64\n",
      "BEFO_JOB         object\n",
      "EDGB             object\n",
      "BRCH_CODE       float64\n",
      "dtype: object\n",
      "CLLT_FP_PRNO      0\n",
      "INCB_DVSN         2\n",
      "ETRS_YM         257\n",
      "FIRE_YM         256\n",
      "BEFO_JOB        256\n",
      "EDGB            256\n",
      "BRCH_CODE         2\n",
      "dtype: int64\n"
     ]
    },
    {
     "data": {
      "text/html": [
       "<div>\n",
       "<style scoped>\n",
       "    .dataframe tbody tr th:only-of-type {\n",
       "        vertical-align: middle;\n",
       "    }\n",
       "\n",
       "    .dataframe tbody tr th {\n",
       "        vertical-align: top;\n",
       "    }\n",
       "\n",
       "    .dataframe thead th {\n",
       "        text-align: right;\n",
       "    }\n",
       "</style>\n",
       "<table border=\"1\" class=\"dataframe\">\n",
       "  <thead>\n",
       "    <tr style=\"text-align: right;\">\n",
       "      <th></th>\n",
       "      <th>CLLT_FP_PRNO</th>\n",
       "      <th>INCB_DVSN</th>\n",
       "      <th>ETRS_YM</th>\n",
       "      <th>FIRE_YM</th>\n",
       "      <th>BEFO_JOB</th>\n",
       "      <th>EDGB</th>\n",
       "      <th>BRCH_CODE</th>\n",
       "    </tr>\n",
       "  </thead>\n",
       "  <tbody>\n",
       "    <tr>\n",
       "      <th>31517</th>\n",
       "      <td>2282</td>\n",
       "      <td>D</td>\n",
       "      <td>NaN</td>\n",
       "      <td>NaN</td>\n",
       "      <td>NaN</td>\n",
       "      <td>NaN</td>\n",
       "      <td>99999999.0</td>\n",
       "    </tr>\n",
       "    <tr>\n",
       "      <th>31518</th>\n",
       "      <td>55</td>\n",
       "      <td>D</td>\n",
       "      <td>NaN</td>\n",
       "      <td>NaN</td>\n",
       "      <td>NaN</td>\n",
       "      <td>NaN</td>\n",
       "      <td>99999999.0</td>\n",
       "    </tr>\n",
       "    <tr>\n",
       "      <th>31519</th>\n",
       "      <td>118</td>\n",
       "      <td>D</td>\n",
       "      <td>NaN</td>\n",
       "      <td>NaN</td>\n",
       "      <td>NaN</td>\n",
       "      <td>NaN</td>\n",
       "      <td>99999999.0</td>\n",
       "    </tr>\n",
       "    <tr>\n",
       "      <th>31520</th>\n",
       "      <td>93</td>\n",
       "      <td>D</td>\n",
       "      <td>NaN</td>\n",
       "      <td>NaN</td>\n",
       "      <td>NaN</td>\n",
       "      <td>NaN</td>\n",
       "      <td>99999999.0</td>\n",
       "    </tr>\n",
       "    <tr>\n",
       "      <th>31521</th>\n",
       "      <td>80</td>\n",
       "      <td>D</td>\n",
       "      <td>NaN</td>\n",
       "      <td>NaN</td>\n",
       "      <td>NaN</td>\n",
       "      <td>NaN</td>\n",
       "      <td>99999999.0</td>\n",
       "    </tr>\n",
       "  </tbody>\n",
       "</table>\n",
       "</div>"
      ],
      "text/plain": [
       "       CLLT_FP_PRNO INCB_DVSN  ETRS_YM  FIRE_YM BEFO_JOB EDGB   BRCH_CODE\n",
       "31517          2282         D      NaN      NaN      NaN  NaN  99999999.0\n",
       "31518            55         D      NaN      NaN      NaN  NaN  99999999.0\n",
       "31519           118         D      NaN      NaN      NaN  NaN  99999999.0\n",
       "31520            93         D      NaN      NaN      NaN  NaN  99999999.0\n",
       "31521            80         D      NaN      NaN      NaN  NaN  99999999.0"
      ]
     },
     "execution_count": 44,
     "metadata": {},
     "output_type": "execute_result"
    }
   ],
   "source": [
    "FPINFO = pd.read_csv('./dataset/real_insurance_data/BGCON_FPINFO_DATA_2.csv',delimiter = None,encoding='utf-8')\n",
    "\n",
    "print(FPINFO.shape)\n",
    "print(FPINFO.dtypes)\n",
    "print(FPINFO.isnull().sum())\n",
    "FPINFO.tail(5)"
   ]
  },
  {
   "cell_type": "markdown",
   "id": "cb61b9c1-c7d9-4b2b-873a-a4f9cf3192e6",
   "metadata": {},
   "source": [
    "##### INCB_DVSN(재직구분), ETRS_YM(위촉년월), FIRE_YM(해촉년월), BEFO_JOB(입사전직업), EDGB(학력)컬럼의 null값 제거"
   ]
  },
  {
   "cell_type": "code",
   "execution_count": 45,
   "id": "fadd0742-14f8-423b-8913-a346ed8a4a3a",
   "metadata": {},
   "outputs": [
    {
     "name": "stdout",
     "output_type": "stream",
     "text": [
      "INCB_DVSN 의 None값  0.01 %\n"
     ]
    }
   ],
   "source": [
    "None_percentage(FPINFO,'INCB_DVSN')\n",
    "\n",
    "FPINFO = FPINFO.loc[FPINFO['INCB_DVSN'].notnull()]\n",
    "\n",
    "FPINFO = FPINFO.loc[FPINFO['ETRS_YM'].notnull()]\n",
    "\n",
    "FPINFO.loc[FPINFO['FIRE_YM']==999912,'FIRE_YM']= 210012\n",
    "FPINFO['ETRS_YM'] = pd.to_datetime(FPINFO['ETRS_YM'],format='%Y%m')\n",
    "FPINFO['FIRE_YM'] = pd.to_datetime(FPINFO['FIRE_YM'],format='%Y%m')"
   ]
  },
  {
   "cell_type": "code",
   "execution_count": 46,
   "id": "7ba4c87a-ab6b-462d-9d93-139a3a1e0040",
   "metadata": {},
   "outputs": [
    {
     "data": {
      "text/plain": [
       "CLLT_FP_PRNO    0\n",
       "INCB_DVSN       0\n",
       "ETRS_YM         0\n",
       "FIRE_YM         0\n",
       "BEFO_JOB        0\n",
       "EDGB            0\n",
       "BRCH_CODE       0\n",
       "dtype: int64"
      ]
     },
     "execution_count": 46,
     "metadata": {},
     "output_type": "execute_result"
    }
   ],
   "source": [
    "FPINFO.isnull().sum()"
   ]
  },
  {
   "cell_type": "code",
   "execution_count": 47,
   "id": "ea6e2ced-d326-4255-9a09-d68b48c7bc9d",
   "metadata": {},
   "outputs": [
    {
     "name": "stdout",
     "output_type": "stream",
     "text": [
      "<class 'pandas.core.frame.DataFrame'>\n",
      "Int64Index: 31265 entries, 0 to 31489\n",
      "Data columns (total 7 columns):\n",
      " #   Column        Non-Null Count  Dtype         \n",
      "---  ------        --------------  -----         \n",
      " 0   CLLT_FP_PRNO  31265 non-null  int64         \n",
      " 1   INCB_DVSN     31265 non-null  object        \n",
      " 2   ETRS_YM       31265 non-null  datetime64[ns]\n",
      " 3   FIRE_YM       31265 non-null  datetime64[ns]\n",
      " 4   BEFO_JOB      31265 non-null  object        \n",
      " 5   EDGB          31265 non-null  object        \n",
      " 6   BRCH_CODE     31265 non-null  float64       \n",
      "dtypes: datetime64[ns](2), float64(1), int64(1), object(3)\n",
      "memory usage: 1.9+ MB\n"
     ]
    }
   ],
   "source": [
    "FPINFO.info()"
   ]
  },
  {
   "cell_type": "markdown",
   "id": "f1259ce7-d8fc-4b9c-b2a6-5c1435870367",
   "metadata": {},
   "source": [
    "##### 범주형 데이터인데 숫자형으로 되어있을 경우 변경해줌"
   ]
  },
  {
   "cell_type": "code",
   "execution_count": 48,
   "id": "2db15901-b863-41a7-a7ed-b6413b5a7402",
   "metadata": {},
   "outputs": [],
   "source": [
    "FPINFO = FPINFO.astype({'BRCH_CODE' : str})"
   ]
  },
  {
   "cell_type": "markdown",
   "id": "bae0f25f-93b4-4e72-9657-0a3f2f5823be",
   "metadata": {},
   "source": [
    "# 1 - 5 가족관계 데이터 전처리"
   ]
  },
  {
   "cell_type": "markdown",
   "id": "4e768c0e-f405-48e8-bd46-7c83ff7a8dd8",
   "metadata": {},
   "source": [
    "##### null값 존재하지 않음"
   ]
  },
  {
   "cell_type": "code",
   "execution_count": 49,
   "id": "d10474c2-4103-47e0-8418-0f98f96f54b7",
   "metadata": {},
   "outputs": [
    {
     "name": "stdout",
     "output_type": "stream",
     "text": [
      "(426, 3)\n",
      "CUST_ID           int64\n",
      "SUB_CUST_ID       int64\n",
      "FMLY_RELN_CODE    int64\n",
      "dtype: object\n",
      "CUST_ID           0\n",
      "SUB_CUST_ID       0\n",
      "FMLY_RELN_CODE    0\n",
      "dtype: int64\n"
     ]
    },
    {
     "data": {
      "text/html": [
       "<div>\n",
       "<style scoped>\n",
       "    .dataframe tbody tr th:only-of-type {\n",
       "        vertical-align: middle;\n",
       "    }\n",
       "\n",
       "    .dataframe tbody tr th {\n",
       "        vertical-align: top;\n",
       "    }\n",
       "\n",
       "    .dataframe thead th {\n",
       "        text-align: right;\n",
       "    }\n",
       "</style>\n",
       "<table border=\"1\" class=\"dataframe\">\n",
       "  <thead>\n",
       "    <tr style=\"text-align: right;\">\n",
       "      <th></th>\n",
       "      <th>CUST_ID</th>\n",
       "      <th>SUB_CUST_ID</th>\n",
       "      <th>FMLY_RELN_CODE</th>\n",
       "    </tr>\n",
       "  </thead>\n",
       "  <tbody>\n",
       "    <tr>\n",
       "      <th>421</th>\n",
       "      <td>6191</td>\n",
       "      <td>1733</td>\n",
       "      <td>14</td>\n",
       "    </tr>\n",
       "    <tr>\n",
       "      <th>422</th>\n",
       "      <td>810</td>\n",
       "      <td>14786</td>\n",
       "      <td>14</td>\n",
       "    </tr>\n",
       "    <tr>\n",
       "      <th>423</th>\n",
       "      <td>21168</td>\n",
       "      <td>14558</td>\n",
       "      <td>12</td>\n",
       "    </tr>\n",
       "    <tr>\n",
       "      <th>424</th>\n",
       "      <td>19941</td>\n",
       "      <td>13263</td>\n",
       "      <td>14</td>\n",
       "    </tr>\n",
       "    <tr>\n",
       "      <th>425</th>\n",
       "      <td>21615</td>\n",
       "      <td>15176</td>\n",
       "      <td>15</td>\n",
       "    </tr>\n",
       "  </tbody>\n",
       "</table>\n",
       "</div>"
      ],
      "text/plain": [
       "     CUST_ID  SUB_CUST_ID  FMLY_RELN_CODE\n",
       "421     6191         1733              14\n",
       "422      810        14786              14\n",
       "423    21168        14558              12\n",
       "424    19941        13263              14\n",
       "425    21615        15176              15"
      ]
     },
     "execution_count": 49,
     "metadata": {},
     "output_type": "execute_result"
    }
   ],
   "source": [
    "FMLY = pd.read_csv('./dataset/real_insurance_data/BGCON_FMLY_DATA_2.csv',delimiter = None,encoding='utf-8')\n",
    "\n",
    "print(FMLY.shape)\n",
    "print(FMLY.dtypes)\n",
    "print(FMLY.isnull().sum())\n",
    "FMLY.tail(5)"
   ]
  },
  {
   "cell_type": "code",
   "execution_count": 50,
   "id": "76248eb7-316c-428f-ae29-01d09b91ba14",
   "metadata": {},
   "outputs": [
    {
     "name": "stdout",
     "output_type": "stream",
     "text": [
      "<class 'pandas.core.frame.DataFrame'>\n",
      "RangeIndex: 426 entries, 0 to 425\n",
      "Data columns (total 3 columns):\n",
      " #   Column          Non-Null Count  Dtype\n",
      "---  ------          --------------  -----\n",
      " 0   CUST_ID         426 non-null    int64\n",
      " 1   SUB_CUST_ID     426 non-null    int64\n",
      " 2   FMLY_RELN_CODE  426 non-null    int64\n",
      "dtypes: int64(3)\n",
      "memory usage: 10.1 KB\n"
     ]
    }
   ],
   "source": [
    "FMLY.info()"
   ]
  },
  {
   "cell_type": "code",
   "execution_count": 51,
   "id": "40ab6e27-43ed-4ddb-81a5-d3ab323f9632",
   "metadata": {},
   "outputs": [],
   "source": [
    "FMLY = FMLY.astype({'FMLY_RELN_CODE' : str})"
   ]
  },
  {
   "cell_type": "markdown",
   "id": "82bf7f1d-5d14-4f10-9e63-5c5d45443c0f",
   "metadata": {},
   "source": [
    "# 2. 데이터 조인"
   ]
  },
  {
   "cell_type": "code",
   "execution_count": 52,
   "id": "81e197fe-0434-437b-9519-e8ac151b55c4",
   "metadata": {},
   "outputs": [
    {
     "name": "stdout",
     "output_type": "stream",
     "text": [
      "(20606, 21)\n",
      "(112926, 21)\n",
      "(118998, 30)\n",
      "(31265, 7)\n",
      "(426, 3)\n"
     ]
    }
   ],
   "source": [
    "print(CUST_NY.shape)\n",
    "print(CNTT.shape)\n",
    "print(CLAIM.shape)\n",
    "print(FPINFO.shape)\n",
    "print(FMLY.shape)"
   ]
  },
  {
   "cell_type": "markdown",
   "id": "cf511f52-ee52-4e34-a303-631fb8a54e1a",
   "metadata": {},
   "source": [
    "### 고객아이디만 추출"
   ]
  },
  {
   "cell_type": "code",
   "execution_count": 53,
   "id": "0aec6419-3112-4e37-8233-335e5ff18c62",
   "metadata": {},
   "outputs": [
    {
     "data": {
      "text/plain": [
       "STUDENT_ID    0\n",
       "dtype: int64"
      ]
     },
     "execution_count": 53,
     "metadata": {},
     "output_type": "execute_result"
    }
   ],
   "source": [
    "fail_student = CUST_NY[['CUST_ID']]\n",
    "\n",
    "fail_student.rename(columns = {'CUST_ID' : 'STUDENT_ID',\\\n",
    "                              'SIU_CUST_YN' : 'FAIL_YN'}, inplace = True)\n",
    "\n",
    "fail_student.isnull().sum()"
   ]
  },
  {
   "cell_type": "markdown",
   "id": "01a951fd-ee4a-4e57-a422-544430c2f80f",
   "metadata": {},
   "source": [
    "### 나이 조정하기\n",
    " - 일반적으로 4년제 대학의 최대 휴학 가능 기간은 2~3년. 이를 참고해서 최대 재학기간을 7년으로 가정함"
   ]
  },
  {
   "cell_type": "code",
   "execution_count": 54,
   "id": "6a93196c-2ea5-403e-b22b-d3eacb57712d",
   "metadata": {},
   "outputs": [
    {
     "data": {
      "image/png": "[encoded data removed]",
      "text/plain": [
       "<Figure size 432x288 with 1 Axes>"
      ]
     },
     "metadata": {
      "needs_background": "light"
     },
     "output_type": "display_data"
    }
   ],
   "source": [
    "plt.hist(CUST_NY['AGE'])\n",
    "plt.show()"
   ]
  },
  {
   "cell_type": "code",
   "execution_count": 55,
   "id": "cd513393-9c8a-465d-afb3-932c206fca21",
   "metadata": {},
   "outputs": [],
   "source": [
    "CUST_AGE = CUST_NY[['CUST_ID','AGE']]"
   ]
  },
  {
   "cell_type": "code",
   "execution_count": 56,
   "id": "560e8c24-5730-4d15-ab54-9e85769dfd4a",
   "metadata": {},
   "outputs": [
    {
     "name": "stdout",
     "output_type": "stream",
     "text": [
      "4250\n",
      "3179\n",
      "3502\n",
      "2456\n",
      "2687\n",
      "2243\n",
      "2289\n"
     ]
    }
   ],
   "source": [
    "print(len( CUST_AGE.loc[CUST_AGE['AGE'] < 32,'AGE'] ))\n",
    "print(len( CUST_AGE.loc[ (CUST_AGE['AGE'] >= 32) & (CUST_AGE['AGE'] < 40),'AGE'] ))\n",
    "print(len( CUST_AGE.loc[ (CUST_AGE['AGE'] >= 40) & (CUST_AGE['AGE'] < 48),'AGE'] ))\n",
    "print(len( CUST_AGE.loc[ (CUST_AGE['AGE'] >= 48) & (CUST_AGE['AGE'] < 53),'AGE'] ))\n",
    "print(len( CUST_AGE.loc[ (CUST_AGE['AGE'] >= 53) & (CUST_AGE['AGE'] < 58),'AGE'] ))\n",
    "print(len( CUST_AGE.loc[ (CUST_AGE['AGE'] >= 58) & (CUST_AGE['AGE'] < 63),'AGE'] ))\n",
    "print(len( CUST_AGE.loc[CUST_AGE['AGE'] >= 63,'AGE'] ))"
   ]
  },
  {
   "cell_type": "code",
   "execution_count": 57,
   "id": "d02abb96-25d2-4d3f-9308-9841845689ff",
   "metadata": {},
   "outputs": [],
   "source": [
    "CUST_AGE.loc[CUST_AGE['AGE'] < 32,'AGE'] = 20\n",
    "CUST_AGE.loc[ (CUST_AGE['AGE'] >= 32) & (CUST_AGE['AGE'] < 40),'AGE'] = 21\n",
    "CUST_AGE.loc[ (CUST_AGE['AGE'] >= 40) & (CUST_AGE['AGE'] < 48),'AGE'] = 22\n",
    "CUST_AGE.loc[ (CUST_AGE['AGE'] >= 48) & (CUST_AGE['AGE'] < 53),'AGE'] = 23\n",
    "CUST_AGE.loc[ (CUST_AGE['AGE'] >= 53) & (CUST_AGE['AGE'] < 58),'AGE'] = 24\n",
    "CUST_AGE.loc[ (CUST_AGE['AGE'] >= 58) & (CUST_AGE['AGE'] < 63),'AGE'] = 25\n",
    "CUST_AGE.loc[CUST_AGE['AGE'] >= 63,'AGE'] = 26"
   ]
  },
  {
   "cell_type": "code",
   "execution_count": 58,
   "id": "a367d492-420f-4eee-8fcf-451199c27873",
   "metadata": {},
   "outputs": [
    {
     "data": {
      "text/plain": [
       "AGE           0\n",
       "STUDENT_ID    0\n",
       "dtype: int64"
      ]
     },
     "execution_count": 58,
     "metadata": {},
     "output_type": "execute_result"
    }
   ],
   "source": [
    "fail_student = pd.merge(left = fail_student , right = CUST_AGE, how = \"left\", left_on = 'STUDENT_ID', right_on = 'CUST_ID')\n",
    "fail_student = fail_student[fail_student.columns.difference(['CUST_ID'])]\n",
    "\n",
    "fail_student.isnull().sum()"
   ]
  },
  {
   "cell_type": "markdown",
   "id": "6fafed74-0667-4eee-bee0-1f5c995f2aaa",
   "metadata": {},
   "source": [
    "### 대학과 학생 거주지 거리\n",
    " - fp와의 거리를 사용"
   ]
  },
  {
   "cell_type": "code",
   "execution_count": 59,
   "id": "fce8b618-d1fd-4aa3-a7d5-229d4dcc61f9",
   "metadata": {},
   "outputs": [],
   "source": [
    "FP_DIST = CNTT.groupby(['CUST_ID'])['DISTANCE'].mean()\n",
    "\n",
    "FP_DIST = FP_DIST.to_frame().reset_index()\n",
    "\n",
    "FP_DIST.rename(columns = {'DISTANCE' : 'UNI_DIST'}, inplace = True)"
   ]
  },
  {
   "cell_type": "code",
   "execution_count": 60,
   "id": "508d65fe-7cd4-40e7-b804-9cb5e589c88d",
   "metadata": {
    "tags": []
   },
   "outputs": [
    {
     "data": {
      "text/plain": [
       "AGE           0\n",
       "STUDENT_ID    0\n",
       "UNI_DIST      0\n",
       "dtype: int64"
      ]
     },
     "execution_count": 60,
     "metadata": {},
     "output_type": "execute_result"
    }
   ],
   "source": [
    "fail_student = pd.merge(left = fail_student , right = FP_DIST, how = \"left\", left_on = 'STUDENT_ID', right_on = 'CUST_ID')\n",
    "\n",
    "fail_student = fail_student[fail_student.columns.difference(['CUST_ID'])]\n",
    "\n",
    "fail_student.fillna(fail_student['UNI_DIST'].mean(), inplace = True)\n",
    "\n",
    "fail_student.isnull().sum()"
   ]
  },
  {
   "cell_type": "markdown",
   "id": "1e133af5-d588-4a97-b6a8-edcdb15ebc01",
   "metadata": {},
   "source": [
    "### 복수전공 여부\n",
    " - 결혼 여부를 사용"
   ]
  },
  {
   "cell_type": "code",
   "execution_count": 61,
   "id": "7e8b5c5d-a3fe-4d8a-8426-e7d02af4a49a",
   "metadata": {},
   "outputs": [
    {
     "data": {
      "image/png": "[encoded data removed]",
      "text/plain": [
       "<Figure size 432x288 with 1 Axes>"
      ]
     },
     "metadata": {
      "needs_background": "light"
     },
     "output_type": "display_data"
    }
   ],
   "source": [
    "plt.hist(CUST_NY['WEDD_YN'])\n",
    "plt.show()"
   ]
  },
  {
   "cell_type": "code",
   "execution_count": 62,
   "id": "8b57d610-740d-4d33-b2b6-0054e3a926f7",
   "metadata": {},
   "outputs": [
    {
     "data": {
      "text/plain": [
       "AGE             0\n",
       "DOUBLE_MAJOR    0\n",
       "STUDENT_ID      0\n",
       "UNI_DIST        0\n",
       "dtype: int64"
      ]
     },
     "execution_count": 62,
     "metadata": {},
     "output_type": "execute_result"
    }
   ],
   "source": [
    "WEDD_YN = CUST_NY[['CUST_ID','WEDD_YN']]\n",
    "\n",
    "WEDD_YN.rename(columns = {'WEDD_YN' : 'DOUBLE_MAJOR'}, inplace = True)\n",
    "\n",
    "fail_student = pd.merge(left = fail_student , right = WEDD_YN, how = \"left\", left_on = 'STUDENT_ID', right_on = 'CUST_ID')\n",
    "\n",
    "fail_student = fail_student[fail_student.columns.difference(['CUST_ID'])]\n",
    "\n",
    "fail_student.isnull().sum()"
   ]
  },
  {
   "cell_type": "markdown",
   "id": "37d701e1-0bef-4b25-a944-3642d2beda8a",
   "metadata": {},
   "source": [
    "### 휴학\n",
    " - 현재년도 2016년을 기준으로 보험금지급 사유일자가 존재하면 휴학기록으로 맵핑\n",
    " - 알맞게 년도 범위 조정하기\n",
    " - 기간별 휴힉여부와 총 휴학 횟수"
   ]
  },
  {
   "cell_type": "code",
   "execution_count": 63,
   "id": "88b69edd-b21b-4fef-817c-f84d6d83e3df",
   "metadata": {},
   "outputs": [],
   "source": [
    "CLAIM['RESN_DATE_YEAR'] = CLAIM['RESN_DATE'].dt.year\n",
    "\n",
    "df_RESN_DATE_YEAR = CLAIM.groupby(['CUST_ID','RESN_DATE_YEAR'])['RESN_DATE_YEAR'].count()\n",
    "\n",
    "df_RESN_DATE_YEAR = df_RESN_DATE_YEAR.to_frame().rename(columns={'RESN_DATE_YEAR': 'a'}).reset_index()[['CUST_ID','RESN_DATE_YEAR']]"
   ]
  },
  {
   "cell_type": "code",
   "execution_count": 64,
   "id": "f14fbd99-6b1a-4b8b-a045-94f558c15685",
   "metadata": {},
   "outputs": [
    {
     "data": {
      "image/png": "[encoded data removed]",
      "text/plain": [
       "<Figure size 432x288 with 1 Axes>"
      ]
     },
     "metadata": {
      "needs_background": "light"
     },
     "output_type": "display_data"
    }
   ],
   "source": [
    "plt.hist(df_RESN_DATE_YEAR['RESN_DATE_YEAR'])\n",
    "plt.show()"
   ]
  },
  {
   "cell_type": "code",
   "execution_count": 65,
   "id": "9d150abb-5159-4547-97c8-859a2a18865a",
   "metadata": {},
   "outputs": [
    {
     "name": "stdout",
     "output_type": "stream",
     "text": [
      "7507\n",
      "8027\n",
      "8519\n",
      "9034\n",
      "6455\n"
     ]
    }
   ],
   "source": [
    "print(len(df_RESN_DATE_YEAR.loc[df_RESN_DATE_YEAR['RESN_DATE_YEAR'] < 2009].drop_duplicates(['CUST_ID']))) # 4전년도\n",
    "print(len(df_RESN_DATE_YEAR.loc[ (df_RESN_DATE_YEAR['RESN_DATE_YEAR'] >= 2009) & (df_RESN_DATE_YEAR['RESN_DATE_YEAR'] < 2011)].drop_duplicates(['CUST_ID']))) # 3전년도\n",
    "print(len(df_RESN_DATE_YEAR.loc[ (df_RESN_DATE_YEAR['RESN_DATE_YEAR'] >= 2011) & (df_RESN_DATE_YEAR['RESN_DATE_YEAR'] < 2013)].drop_duplicates(['CUST_ID']))) # 2전년도\n",
    "print(len(df_RESN_DATE_YEAR.loc[ (df_RESN_DATE_YEAR['RESN_DATE_YEAR'] >= 2013) & (df_RESN_DATE_YEAR['RESN_DATE_YEAR'] < 2015)].drop_duplicates(['CUST_ID']))) # 직전년도\n",
    "print(len(df_RESN_DATE_YEAR.loc[ (df_RESN_DATE_YEAR['RESN_DATE_YEAR'] >= 2015) & (df_RESN_DATE_YEAR['RESN_DATE_YEAR'] < 2017)].drop_duplicates(['CUST_ID']))) # 현재학기"
   ]
  },
  {
   "cell_type": "code",
   "execution_count": 66,
   "id": "b5e2784b-5870-4b4a-b3ef-96e5573014f7",
   "metadata": {},
   "outputs": [],
   "source": [
    "# 조건을 만족하는 구간에 데이터가 몇개가 있던 존재하냐 않하냐가 중요하기 때문에 drop_duplicates를 이용함\n",
    "off_4years_ago = df_RESN_DATE_YEAR.loc[df_RESN_DATE_YEAR['RESN_DATE_YEAR'] < 2009].drop_duplicates(['CUST_ID']).drop('RESN_DATE_YEAR',axis=1)\n",
    "off_3years_ago = df_RESN_DATE_YEAR.loc[ (df_RESN_DATE_YEAR['RESN_DATE_YEAR'] >= 2009) & (df_RESN_DATE_YEAR['RESN_DATE_YEAR'] < 2011)].drop_duplicates(['CUST_ID']).drop('RESN_DATE_YEAR',axis=1)\n",
    "off_2years_ago = df_RESN_DATE_YEAR.loc[ (df_RESN_DATE_YEAR['RESN_DATE_YEAR'] >= 2011) & (df_RESN_DATE_YEAR['RESN_DATE_YEAR'] < 2013)].drop_duplicates(['CUST_ID']).drop('RESN_DATE_YEAR',axis=1)\n",
    "off_1years_ago = df_RESN_DATE_YEAR.loc[ (df_RESN_DATE_YEAR['RESN_DATE_YEAR'] >= 2013) & (df_RESN_DATE_YEAR['RESN_DATE_YEAR'] < 2015)].drop_duplicates(['CUST_ID']).drop('RESN_DATE_YEAR',axis=1)\n",
    "off_this_year = df_RESN_DATE_YEAR.loc[ (df_RESN_DATE_YEAR['RESN_DATE_YEAR'] >= 2015) & (df_RESN_DATE_YEAR['RESN_DATE_YEAR'] < 2017)].drop_duplicates(['CUST_ID']).drop('RESN_DATE_YEAR',axis=1)"
   ]
  },
  {
   "cell_type": "code",
   "execution_count": 67,
   "id": "59bf8656-4689-466f-b0cf-1d07cba9d86b",
   "metadata": {},
   "outputs": [],
   "source": [
    "squares = ['Y' for x in range(len(off_4years_ago))]\n",
    "\n",
    "off_4 = pd.concat([off_4years_ago.reset_index()[['CUST_ID']],pd.DataFrame(squares)],axis=1).rename(columns={0: 'off_4years_ago'})\n",
    "\n",
    "squares = ['Y' for x in range(len(off_3years_ago))]\n",
    "\n",
    "off_3 = pd.concat([off_3years_ago.reset_index()[['CUST_ID']],pd.DataFrame(squares)],axis=1).rename(columns={0: 'off_3years_ago'})\n",
    "\n",
    "squares = ['Y' for x in range(len(off_2years_ago))]\n",
    "\n",
    "off_2 = pd.concat([off_2years_ago.reset_index()[['CUST_ID']],pd.DataFrame(squares)],axis=1).rename(columns={0: 'off_2years_ago'})\n",
    "\n",
    "squares = ['Y' for x in range(len(off_1years_ago))]\n",
    "\n",
    "off_1 = pd.concat([off_1years_ago.reset_index()[['CUST_ID']],pd.DataFrame(squares)],axis=1).rename(columns={0: 'off_1years_ago'})\n",
    "\n",
    "squares = ['Y' for x in range(len(off_this_year))]\n",
    "\n",
    "off_0 = pd.concat([off_this_year.reset_index()[['CUST_ID']],pd.DataFrame(squares)],axis=1).rename(columns={0: 'off_this_year'})"
   ]
  },
  {
   "cell_type": "code",
   "execution_count": 68,
   "id": "f167784c-2475-425b-8028-7037e41a0c03",
   "metadata": {
    "tags": []
   },
   "outputs": [],
   "source": [
    "fail_student = pd.merge(left = fail_student , right = off_0, how = \"left\", left_on = 'STUDENT_ID', right_on = 'CUST_ID')\n",
    "fail_student = fail_student[fail_student.columns.difference(['CUST_ID'])]\n",
    "\n",
    "fail_student = pd.merge(left = fail_student , right = off_1, how = \"left\", left_on = 'STUDENT_ID', right_on = 'CUST_ID')\n",
    "fail_student = fail_student[fail_student.columns.difference(['CUST_ID'])]\n",
    "\n",
    "fail_student = pd.merge(left = fail_student , right = off_2, how = \"left\", left_on = 'STUDENT_ID', right_on = 'CUST_ID')\n",
    "fail_student = fail_student[fail_student.columns.difference(['CUST_ID'])]\n",
    "\n",
    "fail_student = pd.merge(left = fail_student , right = off_3, how = \"left\", left_on = 'STUDENT_ID', right_on = 'CUST_ID')\n",
    "fail_student = fail_student[fail_student.columns.difference(['CUST_ID'])]\n",
    "\n",
    "fail_student = pd.merge(left = fail_student , right = off_4, how = \"left\", left_on = 'STUDENT_ID', right_on = 'CUST_ID')\n",
    "fail_student = fail_student[fail_student.columns.difference(['CUST_ID'])]"
   ]
  },
  {
   "cell_type": "code",
   "execution_count": 69,
   "id": "0e4a2499-0d75-429a-9a74-8360d2e25c48",
   "metadata": {},
   "outputs": [],
   "source": [
    "fail_student.fillna('N', inplace=True)"
   ]
  },
  {
   "cell_type": "code",
   "execution_count": 70,
   "id": "881d14cf-38d8-4d08-9126-2c625661955d",
   "metadata": {
    "tags": []
   },
   "outputs": [],
   "source": [
    "fail_student.loc[fail_student['AGE'] == 20, 'off_4years_ago'] = \"N\"\n",
    "fail_student.loc[fail_student['AGE'] == 20, 'off_3years_ago'] = \"N\"\n",
    "fail_student.loc[fail_student['AGE'] == 20, 'off_2years_ago'] = \"N\"\n",
    "fail_student.loc[fail_student['AGE'] == 20, 'off_1years_ago'] = \"N\"\n",
    "\n",
    "fail_student.loc[fail_student['AGE'] == 21, 'off_4years_ago'] = \"N\"\n",
    "fail_student.loc[fail_student['AGE'] == 21, 'off_3years_ago'] = \"N\"\n",
    "fail_student.loc[fail_student['AGE'] == 21, 'off_2years_ago'] = \"N\"\n",
    "\n",
    "fail_student.loc[fail_student['AGE'] == 22, 'off_4years_ago'] = \"N\"\n",
    "fail_student.loc[fail_student['AGE'] == 22, 'off_3years_ago'] = \"N\"\n",
    "\n",
    "fail_student.loc[fail_student['AGE'] == 23, 'off_4years_ago'] = \"N\""
   ]
  },
  {
   "cell_type": "markdown",
   "id": "b80e6895-667e-41d7-b839-f47b467bfa44",
   "metadata": {},
   "source": [
    "##### 총 휴학 횟수"
   ]
  },
  {
   "cell_type": "code",
   "execution_count": 71,
   "id": "e676a717-1510-4ac7-b51e-8da3225e4eb0",
   "metadata": {},
   "outputs": [],
   "source": [
    "total_off_temp = fail_student.iloc[:,4:].sum(axis=1).to_frame()[0]\n",
    "\n",
    "col = []\n",
    "for i in range(0,len(total_off_temp)):\n",
    "    col.append(total_off_temp[i].count('Y'))\n",
    "\n",
    "TOTAL_OFF = pd.DataFrame(col).rename(columns={0: 'TOTAL_OFF'})"
   ]
  },
  {
   "cell_type": "code",
   "execution_count": 72,
   "id": "9546247c-f4fa-4dc4-812b-58add0f4064c",
   "metadata": {},
   "outputs": [
    {
     "data": {
      "image/png": "[encoded data removed]",
      "text/plain": [
       "<Figure size 432x288 with 1 Axes>"
      ]
     },
     "metadata": {
      "needs_background": "light"
     },
     "output_type": "display_data"
    }
   ],
   "source": [
    "plt.hist(TOTAL_OFF['TOTAL_OFF'])\n",
    "plt.show()"
   ]
  },
  {
   "cell_type": "code",
   "execution_count": 73,
   "id": "3e38be89-2d8d-4d4f-845a-a8fd68dfd00a",
   "metadata": {},
   "outputs": [
    {
     "data": {
      "text/plain": [
       "AGE               0\n",
       "DOUBLE_MAJOR      0\n",
       "STUDENT_ID        0\n",
       "UNI_DIST          0\n",
       "off_1years_ago    0\n",
       "off_2years_ago    0\n",
       "off_3years_ago    0\n",
       "off_4years_ago    0\n",
       "off_this_year     0\n",
       "TOTAL_OFF         0\n",
       "dtype: int64"
      ]
     },
     "execution_count": 73,
     "metadata": {},
     "output_type": "execute_result"
    }
   ],
   "source": [
    "fail_student = pd.merge(left = fail_student , right = TOTAL_OFF, how = \"left\", left_index=True, right_index=True)\n",
    "\n",
    "fail_student.isnull().sum()"
   ]
  },
  {
   "cell_type": "markdown",
   "id": "a2495c6e-d23e-42d5-a512-a3574cf34ae4",
   "metadata": {},
   "source": [
    "### 소득분위\n",
    " - 청약서 소득을 조정해서 맵핑\n",
    " - 대학민국 소득분위별 인구수 반영"
   ]
  },
  {
   "cell_type": "code",
   "execution_count": 74,
   "id": "74399b35-ec39-4958-b58d-e27a697ba23c",
   "metadata": {},
   "outputs": [],
   "source": [
    "pd.options.display.float_format = '{:.5f}'.format\n",
    "\n",
    "INCM_AMT = CNTT.groupby(['CUST_ID'])['MNTH_INCM_AMT'].mean().to_frame()"
   ]
  },
  {
   "cell_type": "code",
   "execution_count": 75,
   "id": "c3bdf235-fc60-4751-904e-9eb603a5b5de",
   "metadata": {},
   "outputs": [
    {
     "name": "stdout",
     "output_type": "stream",
     "text": [
      "2100\n",
      "3211\n",
      "3766\n",
      "5539\n",
      "7761\n"
     ]
    }
   ],
   "source": [
    "print(len(INCM_AMT.loc[INCM_AMT['MNTH_INCM_AMT'] == 0])) # 1,2분위\n",
    "print(len(INCM_AMT.loc[ (INCM_AMT['MNTH_INCM_AMT'] > 0) & (INCM_AMT['MNTH_INCM_AMT'] <= 1000000) ])) # 3,4분위\n",
    "print(len(INCM_AMT.loc[ (INCM_AMT['MNTH_INCM_AMT'] > 1000000) & (INCM_AMT['MNTH_INCM_AMT'] <= 1700000) ])) # 5,6분위\n",
    "print(len(INCM_AMT.loc[ (INCM_AMT['MNTH_INCM_AMT'] > 1700000) & (INCM_AMT['MNTH_INCM_AMT'] <= 2400000) ])) # 7,8분위\n",
    "print(len(INCM_AMT.loc[ (INCM_AMT['MNTH_INCM_AMT'] > 2400000)])) # 9,10분위"
   ]
  },
  {
   "cell_type": "code",
   "execution_count": 76,
   "id": "15d9ca27-a3a0-4c3a-bfd8-714793b699da",
   "metadata": {},
   "outputs": [],
   "source": [
    "INCM_AMT.loc[INCM_AMT['MNTH_INCM_AMT'] == 0,'MNTH_INCM_AMT'] = 1\n",
    "INCM_AMT.loc[ (INCM_AMT['MNTH_INCM_AMT'] > 0) & (INCM_AMT['MNTH_INCM_AMT'] <= 1000000) ,'MNTH_INCM_AMT'] = 2\n",
    "INCM_AMT.loc[ (INCM_AMT['MNTH_INCM_AMT'] > 1000000) & (INCM_AMT['MNTH_INCM_AMT'] <= 1700000) ,'MNTH_INCM_AMT'] = 3\n",
    "INCM_AMT.loc[ (INCM_AMT['MNTH_INCM_AMT'] > 1700000) & (INCM_AMT['MNTH_INCM_AMT'] <= 2400000) ,'MNTH_INCM_AMT'] = 4\n",
    "INCM_AMT.loc[ (INCM_AMT['MNTH_INCM_AMT'] > 2400000) ,'MNTH_INCM_AMT'] = 5"
   ]
  },
  {
   "cell_type": "code",
   "execution_count": 77,
   "id": "f61f1809-cfe3-44df-9e9a-0cc82550d0af",
   "metadata": {},
   "outputs": [
    {
     "data": {
      "image/png": "[encoded data removed]",
      "text/plain": [
       "<Figure size 432x288 with 1 Axes>"
      ]
     },
     "metadata": {
      "needs_background": "light"
     },
     "output_type": "display_data"
    }
   ],
   "source": [
    "plt.hist(INCM_AMT['MNTH_INCM_AMT'])\n",
    "plt.show()"
   ]
  },
  {
   "cell_type": "code",
   "execution_count": 78,
   "id": "2158706e-c23a-4861-b96c-d3d617257d37",
   "metadata": {},
   "outputs": [
    {
     "data": {
      "text/plain": [
       "AGE                0\n",
       "DOUBLE_MAJOR       0\n",
       "STUDENT_ID         0\n",
       "UNI_DIST           0\n",
       "off_1years_ago     0\n",
       "off_2years_ago     0\n",
       "off_3years_ago     0\n",
       "off_4years_ago     0\n",
       "off_this_year      0\n",
       "TOTAL_OFF          0\n",
       "INCOME_QUINTILE    0\n",
       "dtype: int64"
      ]
     },
     "execution_count": 78,
     "metadata": {},
     "output_type": "execute_result"
    }
   ],
   "source": [
    "fail_student = pd.merge(left = fail_student , right = INCM_AMT, how = \"left\", left_on = 'STUDENT_ID', right_on = 'CUST_ID').rename(columns={'MNTH_INCM_AMT': 'INCOME_QUINTILE'})\n",
    "\n",
    "fail_student.loc[fail_student['INCOME_QUINTILE'].isnull(),'INCOME_QUINTILE'] = 1\n",
    "\n",
    "fail_student.isnull().sum()"
   ]
  },
  {
   "cell_type": "markdown",
   "id": "2ef7eabc-c3fd-4c33-9299-64640b2678f7",
   "metadata": {},
   "source": [
    "### 입학전형\n",
    " - 고객역할 코드를 조정해서 맵핑\n",
    " - 현재 대입의 입학전형 비율을 참고"
   ]
  },
  {
   "cell_type": "code",
   "execution_count": 79,
   "id": "ac25e1df-b63f-4dcb-af69-b1f1cbde6612",
   "metadata": {},
   "outputs": [],
   "source": [
    "temp = CNTT[['CUST_ID','CUST_ROLE']].groupby(['CUST_ID','CUST_ROLE'])['CUST_ROLE'].count().to_frame().rename(columns={'CUST_ROLE': 'a'}).reset_index()\n",
    "\n",
    "Admissions = temp.groupby(['CUST_ID'])['CUST_ROLE','a'].max().reset_index()[['CUST_ID','CUST_ROLE']]"
   ]
  },
  {
   "cell_type": "code",
   "execution_count": 80,
   "id": "6798c5cd-8438-4706-a43e-b9ec16cbbea7",
   "metadata": {},
   "outputs": [
    {
     "name": "stdout",
     "output_type": "stream",
     "text": [
      "41\n",
      "8573\n",
      "7445\n",
      "1582\n",
      "223\n",
      "153\n",
      "4360\n"
     ]
    }
   ],
   "source": [
    "print(len( Admissions.loc[Admissions['CUST_ROLE'] == '0'] ))\n",
    "print(len( Admissions.loc[Admissions['CUST_ROLE'] == '1'] ))\n",
    "print(len( Admissions.loc[Admissions['CUST_ROLE'] == '2'] ))\n",
    "print(len( Admissions.loc[Admissions['CUST_ROLE'] == '21'] ))\n",
    "print(len( Admissions.loc[Admissions['CUST_ROLE'] == '3'] ))\n",
    "print(len( Admissions.loc[Admissions['CUST_ROLE'] == '4'] ))\n",
    "print(len( Admissions.loc[Admissions['CUST_ROLE'] == '5'] ))"
   ]
  },
  {
   "cell_type": "code",
   "execution_count": 81,
   "id": "9a3a6696-cb5a-44cb-bf9a-1a0a0f02fa86",
   "metadata": {},
   "outputs": [
    {
     "data": {
      "image/png": "[encoded data removed]",
      "text/plain": [
       "<Figure size 432x288 with 1 Axes>"
      ]
     },
     "metadata": {
      "needs_background": "light"
     },
     "output_type": "display_data"
    }
   ],
   "source": [
    "plt.hist(Admissions['CUST_ROLE'])\n",
    "plt.show()"
   ]
  },
  {
   "cell_type": "code",
   "execution_count": 82,
   "id": "cd5124f4-398c-47dd-8555-639154a2781c",
   "metadata": {},
   "outputs": [],
   "source": [
    "Admissions.loc[Admissions['CUST_ROLE'] == '0','CUST_ROLE'] = '정시'\n",
    "Admissions.loc[Admissions['CUST_ROLE'] == '1','CUST_ROLE'] = '정시'\n",
    "Admissions.loc[Admissions['CUST_ROLE'] == '2','CUST_ROLE'] = '수시'\n",
    "Admissions.loc[Admissions['CUST_ROLE'] == '21','CUST_ROLE'] = '수시'\n",
    "Admissions.loc[Admissions['CUST_ROLE'] == '3','CUST_ROLE'] = '수시'\n",
    "Admissions.loc[Admissions['CUST_ROLE'] == '4','CUST_ROLE'] = '수시'\n",
    "Admissions.loc[Admissions['CUST_ROLE'] == '5','CUST_ROLE'] = '수시'"
   ]
  },
  {
   "cell_type": "code",
   "execution_count": 83,
   "id": "f98c507d-de62-4198-9eac-5f74b2d73460",
   "metadata": {},
   "outputs": [
    {
     "data": {
      "text/plain": [
       "ADMISSION          0\n",
       "AGE                0\n",
       "DOUBLE_MAJOR       0\n",
       "INCOME_QUINTILE    0\n",
       "STUDENT_ID         0\n",
       "TOTAL_OFF          0\n",
       "UNI_DIST           0\n",
       "off_1years_ago     0\n",
       "off_2years_ago     0\n",
       "off_3years_ago     0\n",
       "off_4years_ago     0\n",
       "off_this_year      0\n",
       "dtype: int64"
      ]
     },
     "execution_count": 83,
     "metadata": {},
     "output_type": "execute_result"
    }
   ],
   "source": [
    "Admissions = Admissions.rename(columns={'CUST_ROLE': 'ADMISSION'})\n",
    "\n",
    "fail_student = pd.merge(left = fail_student , right = Admissions, how = \"left\", left_on = 'STUDENT_ID', right_on = 'CUST_ID')\n",
    "\n",
    "fail_student = fail_student[fail_student.columns.difference(['CUST_ID'])]\n",
    "\n",
    "fail_student.loc[fail_student['ADMISSION'].isnull(),'ADMISSION'] = '정시'\n",
    "\n",
    "fail_student.isnull().sum()"
   ]
  },
  {
   "cell_type": "markdown",
   "id": "d42d8716-6108-4af3-9850-f59ec041c8a0",
   "metadata": {},
   "source": [
    "### 학과 계열\n",
    " - 1차 직업그룹코드를 이용해서 직업의 특성을 최대한 살려 계열 맵핑\n",
    " - 계열별 비율은 실제 대한민국 대학 졸업자를 기준으로 계산\n",
    " - 의학계열은 없다고 가정"
   ]
  },
  {
   "cell_type": "code",
   "execution_count": 84,
   "id": "99f29bb6-5e16-4799-818e-ff5778dc363d",
   "metadata": {},
   "outputs": [
    {
     "data": {
      "image/png": "[encoded data removed]",
      "text/plain": [
       "<Figure size 432x288 with 1 Axes>"
      ]
     },
     "metadata": {
      "needs_background": "light"
     },
     "output_type": "display_data"
    }
   ],
   "source": [
    "plt.hist(CUST_NY['OCCP_GRP_1'])\n",
    "plt.show()"
   ]
  },
  {
   "cell_type": "code",
   "execution_count": 85,
   "id": "1c0e389a-9a39-4ce2-b049-387d1263a8b0",
   "metadata": {},
   "outputs": [],
   "source": [
    "line_5 = CUST_NY[['CUST_ID','OCCP_GRP_1']]\n",
    "\n",
    "line_5.loc[line_5['OCCP_GRP_1'] == '3.사무직','OCCP_GRP_1'] = '2.자연과학계열'\n",
    "line_5.loc[line_5['OCCP_GRP_1'] == '5.서비스','OCCP_GRP_1'] = '1.인문사회계열'\n",
    "line_5.loc[line_5['OCCP_GRP_1'] == '2.자영업','OCCP_GRP_1'] = '4.예체능계열'\n",
    "line_5.loc[line_5['OCCP_GRP_1'] == '4.전문직','OCCP_GRP_1'] = '1.인문사회계열'\n",
    "line_5.loc[line_5['OCCP_GRP_1'] == '6.제조업','OCCP_GRP_1'] = '3.공학계열'\n",
    "line_5.loc[line_5['OCCP_GRP_1'] == '1.주부','OCCP_GRP_1'] = '1.인문사회계열'\n",
    "line_5.loc[line_5['OCCP_GRP_1'] == '8.기타','OCCP_GRP_1'] = '4.공학계열'\n",
    "line_5.loc[line_5['OCCP_GRP_1'] == '7.1차산업','OCCP_GRP_1'] = '2.자연과학계열'"
   ]
  },
  {
   "cell_type": "code",
   "execution_count": 86,
   "id": "e9b189b7-b151-4874-9f76-aca42a2591d8",
   "metadata": {},
   "outputs": [
    {
     "data": {
      "text/plain": [
       "ADMISSION          0\n",
       "AGE                0\n",
       "DOUBLE_MAJOR       0\n",
       "INCOME_QUINTILE    0\n",
       "OCCP_GRP_1         0\n",
       "STUDENT_ID         0\n",
       "TOTAL_OFF          0\n",
       "UNI_DIST           0\n",
       "off_1years_ago     0\n",
       "off_2years_ago     0\n",
       "off_3years_ago     0\n",
       "off_4years_ago     0\n",
       "off_this_year      0\n",
       "dtype: int64"
      ]
     },
     "execution_count": 86,
     "metadata": {},
     "output_type": "execute_result"
    }
   ],
   "source": [
    "fail_student = pd.merge(left = fail_student , right = line_5, how = \"left\", left_on = 'STUDENT_ID', right_on = 'CUST_ID')\n",
    "\n",
    "fail_student = fail_student[fail_student.columns.difference(['CUST_ID'])]\n",
    "\n",
    "fail_student.isnull().sum()"
   ]
  },
  {
   "cell_type": "markdown",
   "id": "78a479bf-87b0-43fa-9ce1-474d8c069cdb",
   "metadata": {},
   "source": [
    "### 취득성적\n",
    " - 보험청구로 실지급받은 금액을 조정해서 맵핑\n",
    " - 총 지급액 평균을 기준으로 함"
   ]
  },
  {
   "cell_type": "code",
   "execution_count": 87,
   "id": "90d4638b-1bfe-498f-ad0c-08c3463ffa61",
   "metadata": {},
   "outputs": [],
   "source": [
    "PAYM_AMT = CLAIM[['CUST_ID','PAYM_AMT']]\n",
    "\n",
    "PAYM_AMT_mean = PAYM_AMT.groupby(['CUST_ID'])['PAYM_AMT'].mean().to_frame()"
   ]
  },
  {
   "cell_type": "code",
   "execution_count": 88,
   "id": "b474bb04-d00e-4439-83bd-8dddc8d461c2",
   "metadata": {},
   "outputs": [
    {
     "name": "stdout",
     "output_type": "stream",
     "text": [
      "2167\n",
      "3579\n",
      "5794\n",
      "5929\n",
      "3239\n",
      "1691\n"
     ]
    }
   ],
   "source": [
    "print(len( PAYM_AMT_mean.loc[PAYM_AMT_mean['PAYM_AMT'] < 80000] )) # 2.0\n",
    "print(len( PAYM_AMT_mean.loc[ (PAYM_AMT_mean['PAYM_AMT'] >= 80000) & (PAYM_AMT_mean['PAYM_AMT'] < 150000) ] )) # 2.5\n",
    "print(len( PAYM_AMT_mean.loc[ (PAYM_AMT_mean['PAYM_AMT'] >= 150000) & (PAYM_AMT_mean['PAYM_AMT'] < 270000) ] )) # 3.0\n",
    "print(len( PAYM_AMT_mean.loc[ (PAYM_AMT_mean['PAYM_AMT'] >= 270000) & (PAYM_AMT_mean['PAYM_AMT'] < 530000) ] )) # 3.5\n",
    "print(len( PAYM_AMT_mean.loc[ (PAYM_AMT_mean['PAYM_AMT'] >= 530000) & (PAYM_AMT_mean['PAYM_AMT'] < 1500000) ] )) # 4.0\n",
    "print(len( PAYM_AMT_mean.loc[ PAYM_AMT_mean['PAYM_AMT'] >= 1500000 ] )) # 4.5"
   ]
  },
  {
   "cell_type": "code",
   "execution_count": 89,
   "id": "0f522c0e-176e-4b7b-94c8-9f2089a5e6a5",
   "metadata": {},
   "outputs": [],
   "source": [
    "PAYM_AMT_mean.loc[PAYM_AMT_mean['PAYM_AMT'] < 80000,'PAYM_AMT'] = 2.0\n",
    "PAYM_AMT_mean.loc[ (PAYM_AMT_mean['PAYM_AMT'] >= 80000) & (PAYM_AMT_mean['PAYM_AMT'] < 150000) ,'PAYM_AMT'] = 2.5\n",
    "PAYM_AMT_mean.loc[ (PAYM_AMT_mean['PAYM_AMT'] >= 150000) & (PAYM_AMT_mean['PAYM_AMT'] < 270000) ,'PAYM_AMT'] = 3.0\n",
    "PAYM_AMT_mean.loc[ (PAYM_AMT_mean['PAYM_AMT'] >= 270000) & (PAYM_AMT_mean['PAYM_AMT'] < 530000) ,'PAYM_AMT'] = 3.5\n",
    "PAYM_AMT_mean.loc[ (PAYM_AMT_mean['PAYM_AMT'] >= 530000) & (PAYM_AMT_mean['PAYM_AMT'] < 1500000) ,'PAYM_AMT'] = 4.0\n",
    "PAYM_AMT_mean.loc[ PAYM_AMT_mean['PAYM_AMT'] >= 1500000 ,'PAYM_AMT'] = 4.5"
   ]
  },
  {
   "cell_type": "code",
   "execution_count": 90,
   "id": "bb8af7e0-a76c-4df7-aecd-9e2529c543df",
   "metadata": {},
   "outputs": [
    {
     "data": {
      "text/plain": [
       "ADMISSION          0\n",
       "AGE                0\n",
       "DOUBLE_MAJOR       0\n",
       "GRADE              0\n",
       "INCOME_QUINTILE    0\n",
       "OCCP_GRP_1         0\n",
       "STUDENT_ID         0\n",
       "TOTAL_OFF          0\n",
       "UNI_DIST           0\n",
       "off_1years_ago     0\n",
       "off_2years_ago     0\n",
       "off_3years_ago     0\n",
       "off_4years_ago     0\n",
       "off_this_year      0\n",
       "dtype: int64"
      ]
     },
     "execution_count": 90,
     "metadata": {},
     "output_type": "execute_result"
    }
   ],
   "source": [
    "fail_student = pd.merge(left = fail_student , right = PAYM_AMT_mean, how = \"left\", left_on = 'STUDENT_ID', right_on = 'CUST_ID').rename(columns={'PAYM_AMT': 'GRADE'})\n",
    "\n",
    "fail_student = fail_student[fail_student.columns.difference(['CUST_ID'])]\n",
    "\n",
    "fail_student.loc[fail_student['GRADE'].isnull(), 'GRADE'] = 3.0\n",
    "\n",
    "fail_student.isnull().sum()"
   ]
  },
  {
   "cell_type": "markdown",
   "id": "20c276d7-2e95-403f-b89b-74f65088157b",
   "metadata": {},
   "source": [
    "### 같은 나이 평균 성적 대비 취득 성적"
   ]
  },
  {
   "cell_type": "code",
   "execution_count": 91,
   "id": "54d52b69-0dbb-4779-be59-a68feb22ea21",
   "metadata": {},
   "outputs": [
    {
     "data": {
      "text/plain": [
       "ADMISSION          0\n",
       "AGE                0\n",
       "DOUBLE_MAJOR       0\n",
       "GRADE              0\n",
       "INCOME_QUINTILE    0\n",
       "OCCP_GRP_1         0\n",
       "STUDENT_ID         0\n",
       "TOTAL_OFF          0\n",
       "UNI_DIST           0\n",
       "off_1years_ago     0\n",
       "off_2years_ago     0\n",
       "off_3years_ago     0\n",
       "off_4years_ago     0\n",
       "off_this_year      0\n",
       "PREPARE_GRADE      0\n",
       "dtype: int64"
      ]
     },
     "execution_count": 91,
     "metadata": {},
     "output_type": "execute_result"
    }
   ],
   "source": [
    "PREPARE_GRADE = prepare_col(fail_student,'AGE','GRADE')\n",
    "\n",
    "PREPARE_GRADE.rename(columns={'GRADE': 'PREPARE_GRADE'},inplace=True)\n",
    "\n",
    "fail_student = pd.merge(left = fail_student , right = PREPARE_GRADE, how = \"left\", left_index=True, right_index=True)\n",
    "\n",
    "fail_student.isnull().sum()"
   ]
  },
  {
   "cell_type": "markdown",
   "id": "b3de2420-c46d-40e9-9087-fbb457804ace",
   "metadata": {},
   "source": [
    "### 출결정보\n",
    " - 보험계약 시작일부터 현재(2016)까지, 실보험료납입기간을 조정해서 출석일수로 맵핑함"
   ]
  },
  {
   "cell_type": "code",
   "execution_count": 92,
   "id": "d4ccad6b-7122-4de1-bb55-60faf45bf365",
   "metadata": {},
   "outputs": [],
   "source": [
    "attendance = round(CNTT.groupby(['CUST_ID'])['REAL_PAYM_TERM'].mean().to_frame()*365,0)\n",
    "\n",
    "CUST_start = CUST_NY[['CUST_ID','CUST_RGST']]\n",
    "\n",
    "CUST_attendance = pd.merge(left = CUST_start , right = attendance, how = \"left\", on = 'CUST_ID')\n",
    "\n",
    "CUST_attendance['ATTENDANCE'] = round(CUST_attendance['REAL_PAYM_TERM'] / ( CUST_attendance['CUST_RGST'] + CUST_attendance['REAL_PAYM_TERM'] ),3)"
   ]
  },
  {
   "cell_type": "code",
   "execution_count": 93,
   "id": "1a676ebd-65da-486c-9fc8-ddb040ee8c20",
   "metadata": {},
   "outputs": [
    {
     "data": {
      "image/png": "[encoded data removed]",
      "text/plain": [
       "<Figure size 432x288 with 1 Axes>"
      ]
     },
     "metadata": {
      "needs_background": "light"
     },
     "output_type": "display_data"
    }
   ],
   "source": [
    "plt.hist(CUST_attendance['ATTENDANCE'])\n",
    "plt.show()"
   ]
  },
  {
   "cell_type": "code",
   "execution_count": 94,
   "id": "4021360d-9daa-4857-a567-dee469d5ba75",
   "metadata": {},
   "outputs": [
    {
     "name": "stdout",
     "output_type": "stream",
     "text": [
      "2011\n",
      "4214\n",
      "10962\n",
      "3399\n"
     ]
    }
   ],
   "source": [
    "print(len( CUST_attendance.loc[CUST_attendance['ATTENDANCE'] >= 0.8] )) # 100%\n",
    "print(len( CUST_attendance.loc[ (CUST_attendance['ATTENDANCE'] < 0.8) & (CUST_attendance['ATTENDANCE'] >= 0.6)] )) # 90%\n",
    "print(len( CUST_attendance.loc[ (CUST_attendance['ATTENDANCE'] < 0.6) & (CUST_attendance['ATTENDANCE'] >= 0.4)] )) # 80%\n",
    "print(len( CUST_attendance.loc[ CUST_attendance['ATTENDANCE'] < 0.4] )) # 70%"
   ]
  },
  {
   "cell_type": "code",
   "execution_count": 95,
   "id": "16eb5600-9e33-4a86-971a-8fb76a925310",
   "metadata": {},
   "outputs": [],
   "source": [
    "CUST_attendance.loc[CUST_attendance['ATTENDANCE'] >= 0.8, 'ATTENDANCE'] = 1\n",
    "CUST_attendance.loc[ (CUST_attendance['ATTENDANCE'] < 0.8) & (CUST_attendance['ATTENDANCE'] >= 0.6),'ATTENDANCE'] = 0.9\n",
    "CUST_attendance.loc[ (CUST_attendance['ATTENDANCE'] < 0.6) & (CUST_attendance['ATTENDANCE'] >= 0.4),'ATTENDANCE'] = 0.8\n",
    "CUST_attendance.loc[ CUST_attendance['ATTENDANCE'] < 0.4,'ATTENDANCE'] = 0.7"
   ]
  },
  {
   "cell_type": "code",
   "execution_count": 96,
   "id": "b9dff4f1-e64d-49e7-9700-0486360ecb97",
   "metadata": {},
   "outputs": [
    {
     "data": {
      "image/png": "[encoded data removed]",
      "text/plain": [
       "<Figure size 432x288 with 1 Axes>"
      ]
     },
     "metadata": {
      "needs_background": "light"
     },
     "output_type": "display_data"
    }
   ],
   "source": [
    "plt.hist(CUST_attendance['ATTENDANCE'])\n",
    "plt.show()"
   ]
  },
  {
   "cell_type": "code",
   "execution_count": 97,
   "id": "42f488c0-a53c-4466-a2c4-d66e75f4f6fd",
   "metadata": {},
   "outputs": [
    {
     "data": {
      "text/plain": [
       "ADMISSION          0\n",
       "AGE                0\n",
       "ATTENDANCE         0\n",
       "DOUBLE_MAJOR       0\n",
       "GRADE              0\n",
       "INCOME_QUINTILE    0\n",
       "OCCP_GRP_1         0\n",
       "PREPARE_GRADE      0\n",
       "STUDENT_ID         0\n",
       "TOTAL_OFF          0\n",
       "UNI_DIST           0\n",
       "off_1years_ago     0\n",
       "off_2years_ago     0\n",
       "off_3years_ago     0\n",
       "off_4years_ago     0\n",
       "off_this_year      0\n",
       "dtype: int64"
      ]
     },
     "execution_count": 97,
     "metadata": {},
     "output_type": "execute_result"
    }
   ],
   "source": [
    "fail_student = pd.merge(left = fail_student , right = CUST_attendance[['CUST_ID','ATTENDANCE']], how = \"left\", left_on = 'STUDENT_ID', right_on = 'CUST_ID')\n",
    "\n",
    "fail_student = fail_student[fail_student.columns.difference(['CUST_ID'])]\n",
    "\n",
    "fail_student.loc[fail_student['ATTENDANCE'].isnull(),'ATTENDANCE'] = 0.9\n",
    "\n",
    "fail_student.isnull().sum()"
   ]
  },
  {
   "cell_type": "markdown",
   "id": "e2a0bd2d-216c-4abf-9889-6dfe26f4f7bf",
   "metadata": {},
   "source": [
    "### 같은 나이 출석률 대비 출석률"
   ]
  },
  {
   "cell_type": "code",
   "execution_count": 98,
   "id": "4718dd99-85a3-46f9-9eba-f67ac368f740",
   "metadata": {},
   "outputs": [
    {
     "data": {
      "text/plain": [
       "ADMISSION             0\n",
       "AGE                   0\n",
       "ATTENDANCE            0\n",
       "DOUBLE_MAJOR          0\n",
       "GRADE                 0\n",
       "INCOME_QUINTILE       0\n",
       "OCCP_GRP_1            0\n",
       "PREPARE_GRADE         0\n",
       "STUDENT_ID            0\n",
       "TOTAL_OFF             0\n",
       "UNI_DIST              0\n",
       "off_1years_ago        0\n",
       "off_2years_ago        0\n",
       "off_3years_ago        0\n",
       "off_4years_ago        0\n",
       "off_this_year         0\n",
       "PREPARE_ATTENDANCE    0\n",
       "dtype: int64"
      ]
     },
     "execution_count": 98,
     "metadata": {},
     "output_type": "execute_result"
    }
   ],
   "source": [
    "PREPARE_ATTENDANCE = prepare_col(fail_student,'AGE','ATTENDANCE')\n",
    "\n",
    "PREPARE_ATTENDANCE.rename(columns={'ATTENDANCE': 'PREPARE_ATTENDANCE'},inplace=True)\n",
    "\n",
    "fail_student = pd.merge(left = fail_student , right = PREPARE_ATTENDANCE, how = \"left\", left_index=True, right_index=True)\n",
    "\n",
    "fail_student.isnull().sum()"
   ]
  },
  {
   "cell_type": "markdown",
   "id": "34ad3632-c6a8-41ce-aa06-0d3cb1f1402a",
   "metadata": {},
   "source": [
    "### 교내프로그램 참여횟수\n",
    " - 계약체결년월을 조정해 맵핑\n",
    " - datetime 데이터 중 청구년월과 관계성이 가장 적은 데이터라 사용\n",
    " - 총 참여 횟수와 년도별 참여 횟수"
   ]
  },
  {
   "cell_type": "code",
   "execution_count": 99,
   "id": "d9a9b0b3-ebfd-417e-8319-f198310ecfb2",
   "metadata": {},
   "outputs": [],
   "source": [
    "temp = CNTT[['CUST_ID','CNTT_YM']]\n",
    "\n",
    "temp['CNTT_YM_year'] = temp['CNTT_YM'].dt.year\n",
    "\n",
    "program_num = temp.groupby(['CUST_ID','CNTT_YM_year'])['CNTT_YM_year'].count().to_frame().rename(columns={'CNTT_YM_year': 'num'}).reset_index()"
   ]
  },
  {
   "cell_type": "code",
   "execution_count": 100,
   "id": "dd98427b-e586-4b6d-959c-c5e4b1a46358",
   "metadata": {},
   "outputs": [
    {
     "data": {
      "image/png": "[encoded data removed]",
      "text/plain": [
       "<Figure size 432x288 with 1 Axes>"
      ]
     },
     "metadata": {
      "needs_background": "light"
     },
     "output_type": "display_data"
    }
   ],
   "source": [
    "plt.hist(program_num['CNTT_YM_year'])\n",
    "plt.show()"
   ]
  },
  {
   "cell_type": "code",
   "execution_count": 101,
   "id": "6027cbce-1e71-41d7-aea2-a348ce72b2a0",
   "metadata": {},
   "outputs": [
    {
     "name": "stdout",
     "output_type": "stream",
     "text": [
      "14761\n",
      "15742\n",
      "12586\n",
      "11665\n",
      "13516\n"
     ]
    }
   ],
   "source": [
    "print(len(program_num.loc[program_num['CNTT_YM_year'] < 2002])) # 4전년도\n",
    "print(len(program_num.loc[ (program_num['CNTT_YM_year'] >= 2002) & (program_num['CNTT_YM_year'] < 2006)])) # 3전년도\n",
    "print(len(program_num.loc[ (program_num['CNTT_YM_year'] >= 2006) & (program_num['CNTT_YM_year'] < 2009)])) # 2전년도\n",
    "print(len(program_num.loc[ (program_num['CNTT_YM_year'] >= 2009) & (program_num['CNTT_YM_year'] < 2012)])) # 직전년도\n",
    "print(len(program_num.loc[ (program_num['CNTT_YM_year'] >= 2012) & (program_num['CNTT_YM_year'] < 2017)])) # 현재학기"
   ]
  },
  {
   "cell_type": "code",
   "execution_count": 102,
   "id": "9e236e25-af70-4616-a9eb-ed36f4876e8a",
   "metadata": {},
   "outputs": [],
   "source": [
    "join_4years_ago = program_num.loc[program_num['CNTT_YM_year'] < 2002].groupby('CUST_ID')['num'].sum().to_frame()\n",
    "join_3years_ago = program_num.loc[ (program_num['CNTT_YM_year'] >= 2002) & (program_num['CNTT_YM_year'] < 2006)].groupby('CUST_ID')['num'].sum().to_frame()\n",
    "join_2years_ago = program_num.loc[ (program_num['CNTT_YM_year'] >= 2006) & (program_num['CNTT_YM_year'] < 2009)].groupby('CUST_ID')['num'].sum().to_frame()\n",
    "join_1years_ago = program_num.loc[ (program_num['CNTT_YM_year'] >= 2009) & (program_num['CNTT_YM_year'] < 2012)].groupby('CUST_ID')['num'].sum().to_frame()\n",
    "join_this_year = program_num.loc[ (program_num['CNTT_YM_year'] >= 2012) & (program_num['CNTT_YM_year'] < 2017)].groupby('CUST_ID')['num'].sum().to_frame()"
   ]
  },
  {
   "cell_type": "code",
   "execution_count": 103,
   "id": "7e643338-882d-4c9d-83e2-0eeed1646381",
   "metadata": {},
   "outputs": [],
   "source": [
    "fail_student = pd.merge(left = fail_student , right = join_4years_ago, how = \"left\", left_on = 'STUDENT_ID', right_on = 'CUST_ID').rename(columns={'num': 'join_4years_ago'})\n",
    "\n",
    "fail_student = pd.merge(left = fail_student , right = join_3years_ago, how = \"left\", left_on = 'STUDENT_ID', right_on = 'CUST_ID').rename(columns={'num': 'join_3years_ago'})\n",
    "\n",
    "fail_student = pd.merge(left = fail_student , right = join_2years_ago, how = \"left\", left_on = 'STUDENT_ID', right_on = 'CUST_ID').rename(columns={'num': 'join_2years_ago'})\n",
    "\n",
    "fail_student = pd.merge(left = fail_student , right = join_1years_ago, how = \"left\", left_on = 'STUDENT_ID', right_on = 'CUST_ID').rename(columns={'num': 'join_1years_ago'})\n",
    "\n",
    "fail_student = pd.merge(left = fail_student , right = join_this_year, how = \"left\", left_on = 'STUDENT_ID', right_on = 'CUST_ID').rename(columns={'num': 'join_this_year'})\n",
    "\n",
    "fail_student.fillna(0, inplace=True)"
   ]
  },
  {
   "cell_type": "code",
   "execution_count": 104,
   "id": "edd225a6-45d7-4b6d-9442-7c3b87a00bf2",
   "metadata": {},
   "outputs": [
    {
     "data": {
      "text/plain": [
       "ADMISSION             0\n",
       "AGE                   0\n",
       "ATTENDANCE            0\n",
       "DOUBLE_MAJOR          0\n",
       "GRADE                 0\n",
       "INCOME_QUINTILE       0\n",
       "OCCP_GRP_1            0\n",
       "PREPARE_GRADE         0\n",
       "STUDENT_ID            0\n",
       "TOTAL_OFF             0\n",
       "UNI_DIST              0\n",
       "off_1years_ago        0\n",
       "off_2years_ago        0\n",
       "off_3years_ago        0\n",
       "off_4years_ago        0\n",
       "off_this_year         0\n",
       "PREPARE_ATTENDANCE    0\n",
       "join_4years_ago       0\n",
       "join_3years_ago       0\n",
       "join_2years_ago       0\n",
       "join_1years_ago       0\n",
       "join_this_year        0\n",
       "dtype: int64"
      ]
     },
     "execution_count": 104,
     "metadata": {},
     "output_type": "execute_result"
    }
   ],
   "source": [
    "fail_student.loc[fail_student['AGE'] == 20, 'join_4years_ago'] = 0\n",
    "fail_student.loc[fail_student['AGE'] == 20, 'join_3years_ago'] = 0\n",
    "fail_student.loc[fail_student['AGE'] == 20, 'join_2years_ago'] = 0\n",
    "fail_student.loc[fail_student['AGE'] == 20, 'join_1years_ago'] = 0\n",
    "\n",
    "fail_student.loc[fail_student['AGE'] == 21, 'join_4years_ago'] = 0\n",
    "fail_student.loc[fail_student['AGE'] == 21, 'join_3years_ago'] = 0\n",
    "fail_student.loc[fail_student['AGE'] == 21, 'join_2years_ago'] = 0\n",
    "\n",
    "fail_student.loc[fail_student['AGE'] == 22, 'join_4years_ago'] = 0\n",
    "fail_student.loc[fail_student['AGE'] == 22, 'join_3years_ago'] = 0\n",
    "\n",
    "fail_student.loc[fail_student['AGE'] == 23, 'join_4years_ago'] = 0\n",
    "\n",
    "fail_student.isnull().sum()"
   ]
  },
  {
   "cell_type": "markdown",
   "id": "e73ddee1-edb4-4176-801f-a221b354e5dd",
   "metadata": {},
   "source": [
    "##### 교내프로그램 총 참여 횟수"
   ]
  },
  {
   "cell_type": "code",
   "execution_count": 105,
   "id": "51b4d5f2-583c-4a32-b95b-c73eca503a2c",
   "metadata": {},
   "outputs": [],
   "source": [
    "TOTAL_JOIN = fail_student.iloc[:,17:].sum(axis=1).to_frame().rename(columns={0: 'TOTAL_JOIN'})\n",
    "\n",
    "fail_student = pd.merge(left = fail_student , right = TOTAL_JOIN, how = \"left\", left_index=True, right_index=True)"
   ]
  },
  {
   "cell_type": "markdown",
   "id": "1bbf0682-59c1-4b61-a8b3-5609285b4556",
   "metadata": {},
   "source": [
    "### 같은 나이 대비 교내프로그램 참여 횟수"
   ]
  },
  {
   "cell_type": "code",
   "execution_count": 106,
   "id": "f01f88f2-4eaf-4953-a60f-2bbdaa0ae07c",
   "metadata": {},
   "outputs": [],
   "source": [
    "PREPARE_JOIN_4 = prepare_col(fail_student,'AGE','join_4years_ago')\n",
    "\n",
    "PREPARE_JOIN_4.rename(columns={'join_4years_ago': 'PREPARE_join_4years_ago'},inplace=True)\n",
    "\n",
    "fail_student = pd.merge(left = fail_student , right = PREPARE_JOIN_4, how = \"left\", left_index=True, right_index=True)"
   ]
  },
  {
   "cell_type": "code",
   "execution_count": 107,
   "id": "f89b9b67-6316-4aee-87eb-203ac352ac21",
   "metadata": {},
   "outputs": [],
   "source": [
    "PREPARE_JOIN_3 = prepare_col(fail_student,'AGE','join_3years_ago')\n",
    "\n",
    "PREPARE_JOIN_3.rename(columns={'join_3years_ago': 'PREPARE_join_3years_ago'},inplace=True)\n",
    "\n",
    "fail_student = pd.merge(left = fail_student , right = PREPARE_JOIN_3, how = \"left\", left_index=True, right_index=True)"
   ]
  },
  {
   "cell_type": "code",
   "execution_count": 108,
   "id": "ac0096fb-19bc-4d98-853a-da0688d79d91",
   "metadata": {},
   "outputs": [],
   "source": [
    "PREPARE_JOIN_2 = prepare_col(fail_student,'AGE','join_2years_ago')\n",
    "\n",
    "PREPARE_JOIN_2.rename(columns={'join_2years_ago': 'PREPARE_join_2years_ago'},inplace=True)\n",
    "\n",
    "fail_student = pd.merge(left = fail_student , right = PREPARE_JOIN_2, how = \"left\", left_index=True, right_index=True)"
   ]
  },
  {
   "cell_type": "code",
   "execution_count": 109,
   "id": "7e1799cf-ed5a-4ee6-ad0e-4946b801ae48",
   "metadata": {},
   "outputs": [],
   "source": [
    "PREPARE_JOIN_1 = prepare_col(fail_student,'AGE','join_1years_ago')\n",
    "\n",
    "PREPARE_JOIN_1.rename(columns={'join_1years_ago': 'PREPARE_join_1years_ago'},inplace=True)\n",
    "\n",
    "fail_student = pd.merge(left = fail_student , right = PREPARE_JOIN_1, how = \"left\", left_index=True, right_index=True)"
   ]
  },
  {
   "cell_type": "code",
   "execution_count": 110,
   "id": "cf096e10-0e91-45a4-bfe1-f1f95f6bd836",
   "metadata": {},
   "outputs": [],
   "source": [
    "PREPARE_JOIN_0 = prepare_col(fail_student,'AGE','join_this_year')\n",
    "\n",
    "PREPARE_JOIN_0.rename(columns={'join_this_year': 'PREPARE_join_this_year'},inplace=True)\n",
    "\n",
    "fail_student = pd.merge(left = fail_student , right = PREPARE_JOIN_0, how = \"left\", left_index=True, right_index=True)"
   ]
  },
  {
   "cell_type": "code",
   "execution_count": 111,
   "id": "9124e8a2-8a15-474b-b14f-69ca7eba494e",
   "metadata": {},
   "outputs": [
    {
     "data": {
      "text/plain": [
       "ADMISSION                  0\n",
       "AGE                        0\n",
       "ATTENDANCE                 0\n",
       "DOUBLE_MAJOR               0\n",
       "GRADE                      0\n",
       "INCOME_QUINTILE            0\n",
       "OCCP_GRP_1                 0\n",
       "PREPARE_GRADE              0\n",
       "STUDENT_ID                 0\n",
       "TOTAL_OFF                  0\n",
       "UNI_DIST                   0\n",
       "off_1years_ago             0\n",
       "off_2years_ago             0\n",
       "off_3years_ago             0\n",
       "off_4years_ago             0\n",
       "off_this_year              0\n",
       "PREPARE_ATTENDANCE         0\n",
       "join_4years_ago            0\n",
       "join_3years_ago            0\n",
       "join_2years_ago            0\n",
       "join_1years_ago            0\n",
       "join_this_year             0\n",
       "TOTAL_JOIN                 0\n",
       "PREPARE_join_4years_ago    0\n",
       "PREPARE_join_3years_ago    0\n",
       "PREPARE_join_2years_ago    0\n",
       "PREPARE_join_1years_ago    0\n",
       "PREPARE_join_this_year     0\n",
       "dtype: int64"
      ]
     },
     "execution_count": 111,
     "metadata": {},
     "output_type": "execute_result"
    }
   ],
   "source": [
    "fail_student.isnull().sum()"
   ]
  },
  {
   "cell_type": "markdown",
   "id": "215190d3-970e-4ea4-a268-40fcb771043a",
   "metadata": {},
   "source": [
    "### 학적 정보\n",
    " - 계약상태코드를 이용해서 label을 새롭게 맵핑함\n",
    " - 유지 : 유지,완납,납입면제,만기경과,만기지급,사망감소,장해감소,정산,반송,해약\n",
    " - 탈락 : 효력상실,해지,무효,부활취소,청약철회"
   ]
  },
  {
   "cell_type": "code",
   "execution_count": 112,
   "id": "26c7cdd7-584b-4c88-b9e7-2a96c1d54dc8",
   "metadata": {},
   "outputs": [
    {
     "data": {
      "image/png": "[encoded data removed]",
      "text/plain": [
       "<Figure size 432x288 with 1 Axes>"
      ]
     },
     "metadata": {
      "needs_background": "light"
     },
     "output_type": "display_data"
    }
   ],
   "source": [
    "plt.hist(CNTT['CNTT_STAT_CODE'],width=1.0)\n",
    "plt.show()"
   ]
  },
  {
   "cell_type": "code",
   "execution_count": 113,
   "id": "dda63290-fffa-4189-b17e-f15cfc71ecfe",
   "metadata": {},
   "outputs": [],
   "source": [
    "academic = CNTT[['CUST_ID','CNTT_STAT_CODE']]"
   ]
  },
  {
   "cell_type": "code",
   "execution_count": 114,
   "id": "1ad8be98-b005-4ba5-ba56-7f3a56f8ed55",
   "metadata": {},
   "outputs": [],
   "source": [
    "academic.loc[academic['CNTT_STAT_CODE'] == '1','CNTT_STAT_CODE'] = '유지'\n",
    "academic.loc[academic['CNTT_STAT_CODE'] == '2','CNTT_STAT_CODE'] = '유지'\n",
    "academic.loc[academic['CNTT_STAT_CODE'] == '3','CNTT_STAT_CODE'] = '유지'\n",
    "academic.loc[academic['CNTT_STAT_CODE'] == '4','CNTT_STAT_CODE'] = '탈락'\n",
    "academic.loc[academic['CNTT_STAT_CODE'] == '9','CNTT_STAT_CODE'] = '유지'\n",
    "academic.loc[academic['CNTT_STAT_CODE'] == 'A','CNTT_STAT_CODE'] = '유지'\n",
    "academic.loc[academic['CNTT_STAT_CODE'] == 'B','CNTT_STAT_CODE'] = '유지'\n",
    "academic.loc[academic['CNTT_STAT_CODE'] == 'C','CNTT_STAT_CODE'] = '유지'\n",
    "academic.loc[academic['CNTT_STAT_CODE'] == 'D','CNTT_STAT_CODE'] = '유지'\n",
    "academic.loc[academic['CNTT_STAT_CODE'] == 'E','CNTT_STAT_CODE'] = '탈락'\n",
    "academic.loc[academic['CNTT_STAT_CODE'] == 'G','CNTT_STAT_CODE'] = '탈락'\n",
    "academic.loc[academic['CNTT_STAT_CODE'] == 'H','CNTT_STAT_CODE'] = '유지'\n",
    "academic.loc[academic['CNTT_STAT_CODE'] == 'I','CNTT_STAT_CODE'] = '탈락'\n",
    "academic.loc[academic['CNTT_STAT_CODE'] == 'J','CNTT_STAT_CODE'] = '유지'\n",
    "academic.loc[academic['CNTT_STAT_CODE'] == 'L','CNTT_STAT_CODE'] = '탈락'"
   ]
  },
  {
   "cell_type": "code",
   "execution_count": 115,
   "id": "d957870b-0527-490c-a35b-7e605f7034f1",
   "metadata": {},
   "outputs": [
    {
     "data": {
      "image/png": "[encoded data removed]",
      "text/plain": [
       "<Figure size 432x288 with 1 Axes>"
      ]
     },
     "metadata": {
      "needs_background": "light"
     },
     "output_type": "display_data"
    }
   ],
   "source": [
    "plt.hist(academic['CNTT_STAT_CODE'])\n",
    "plt.show()"
   ]
  },
  {
   "cell_type": "code",
   "execution_count": 116,
   "id": "bc103112-f810-403b-88f9-401b7d10c860",
   "metadata": {},
   "outputs": [],
   "source": [
    "academic_num = academic.groupby(['CUST_ID','CNTT_STAT_CODE'])['CNTT_STAT_CODE'].count().to_frame().rename(columns={'CNTT_STAT_CODE': 'num'}).reset_index()\n",
    "\n",
    "academic_info_temp = academic_num[academic_num['num'] == academic_num.groupby(['CUST_ID'])['num'].transform(max)][['CUST_ID','CNTT_STAT_CODE']]\n",
    "\n",
    "academic_info = academic_info_temp.drop_duplicates(['CUST_ID'],keep='last')\n",
    "\n",
    "fail_student = pd.merge(left = fail_student , right = academic_info, how = \"left\", left_on = 'STUDENT_ID', right_on = 'CUST_ID').rename(columns={'CNTT_STAT_CODE': 'ACADEMIC_STAT_CODE'})\n",
    "\n",
    "fail_student = fail_student[fail_student.columns.difference(['CUST_ID'])]\n",
    "\n",
    "fail_student.loc[fail_student['ACADEMIC_STAT_CODE'].isnull(),'ACADEMIC_STAT_CODE'] = '탈락'"
   ]
  },
  {
   "cell_type": "code",
   "execution_count": 117,
   "id": "a5db1a30-9147-4a28-a4ee-e48296c44227",
   "metadata": {},
   "outputs": [
    {
     "name": "stdout",
     "output_type": "stream",
     "text": [
      "920\n",
      "19686\n",
      "중도탈락자 4.46 %\n"
     ]
    }
   ],
   "source": [
    "len_fail=len(fail_student.loc[fail_student['ACADEMIC_STAT_CODE'] == '탈락'])\n",
    "len_maintain=len(fail_student.loc[fail_student['ACADEMIC_STAT_CODE'] == '유지'])\n",
    "\n",
    "print(len(fail_student.loc[fail_student['ACADEMIC_STAT_CODE'] == '탈락']))\n",
    "print(len(fail_student.loc[fail_student['ACADEMIC_STAT_CODE'] == '유지']))\n",
    "print(\"중도탈락자\", round( len_fail/(len_fail+len_maintain)*100 ,2),\"%\")"
   ]
  },
  {
   "cell_type": "code",
   "execution_count": 118,
   "id": "6564a739-2b1a-4b25-93cc-3ebdeab32895",
   "metadata": {},
   "outputs": [
    {
     "data": {
      "text/plain": [
       "ACADEMIC_STAT_CODE         0\n",
       "ADMISSION                  0\n",
       "AGE                        0\n",
       "ATTENDANCE                 0\n",
       "DOUBLE_MAJOR               0\n",
       "GRADE                      0\n",
       "INCOME_QUINTILE            0\n",
       "OCCP_GRP_1                 0\n",
       "PREPARE_ATTENDANCE         0\n",
       "PREPARE_GRADE              0\n",
       "PREPARE_join_1years_ago    0\n",
       "PREPARE_join_2years_ago    0\n",
       "PREPARE_join_3years_ago    0\n",
       "PREPARE_join_4years_ago    0\n",
       "PREPARE_join_this_year     0\n",
       "STUDENT_ID                 0\n",
       "TOTAL_JOIN                 0\n",
       "TOTAL_OFF                  0\n",
       "UNI_DIST                   0\n",
       "join_1years_ago            0\n",
       "join_2years_ago            0\n",
       "join_3years_ago            0\n",
       "join_4years_ago            0\n",
       "join_this_year             0\n",
       "off_1years_ago             0\n",
       "off_2years_ago             0\n",
       "off_3years_ago             0\n",
       "off_4years_ago             0\n",
       "off_this_year              0\n",
       "dtype: int64"
      ]
     },
     "execution_count": 118,
     "metadata": {},
     "output_type": "execute_result"
    }
   ],
   "source": [
    "fail_student.isnull().sum()"
   ]
  },
  {
   "cell_type": "code",
   "execution_count": 119,
   "id": "c5da21c6-c15c-434c-92ae-24dbfb7be6bc",
   "metadata": {},
   "outputs": [],
   "source": [
    "fail_student.to_csv('./drop_out/student_drop_out.csv',index = False)"
   ]
  },
  {
   "cell_type": "markdown",
   "id": "ef776710-d7c9-4bf5-b4f4-2e0101ea0e56",
   "metadata": {},
   "source": [
    "### columns info\n",
    " - ACADEMIC_STAT_CODE : 중도탈락 여부\n",
    " - ADMISSION : 입학 전형\n",
    " - AGE : 나이\n",
    " - ATTENDANCE : 출석률\n",
    " - DOUBLE_MAJOR : 복수전공 여부\n",
    " - GRADE : 평균학점\n",
    " - INCOME_QUINTILE: 소득분위(5분위)\n",
    " - OCCP_GRP_1 : 학과 계열\n",
    " - PREPARE_ATTENDANCE : 동일 나이 대비 출석률\n",
    " - PREPARE_GRADE : 동일 나이 대비 평균학점\n",
    " - PREPARE_join_1years_ago\tPREPARE_join_2years_ago\tPREPARE_join_3years_ago\tPREPARE_join_4years_ago\tPREPARE_join_this_year \n",
    "   : 동일나이 대비 년도별 교내 프로그램 참가 횟수\n",
    " - STUDENT_ID : 학생 고유 번호\n",
    " - TOTAL_JOIN : 교내프로그램 총 참가 횟수\n",
    " - TOTAL_OFF : 총 휴학 횟수\n",
    " - UNI_DIST : 거주지와 대학간의 거리\n",
    " - join_1years_ago join_2years_ago join_3years_ago join_4years_ago join_this_year\n",
    "   : 년도별 교내프로그램 참가 횟수\n",
    " - off_1years_ago\toff_2years_ago\toff_3years_ago\toff_4years_ago\toff_this_year\n",
    "   : 년도별 휴학 여부"
   ]
  }
 ],
 "metadata": {
  "kernelspec": {
   "display_name": "Python 3",
   "language": "python",
   "name": "python3"
  },
  "language_info": {
   "codemirror_mode": {
    "name": "ipython",
    "version": 3
   },
   "file_extension": ".py",
   "mimetype": "text/x-python",
   "name": "python",
   "nbconvert_exporter": "python",
   "pygments_lexer": "ipython3",
   "version": "3.8.8"
  }
 },
 "nbformat": 4,
 "nbformat_minor": 5
}
